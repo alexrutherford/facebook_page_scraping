{
 "cells": [
  {
   "cell_type": "code",
   "execution_count": 1,
   "metadata": {
    "collapsed": false
   },
   "outputs": [],
   "source": [
    "import requests,re\n",
    "import sys\n",
    "sys.path.append('/usr/local/lib/python2.7/dist-packages/')\n",
    "import textblob\n",
    "import langid\n",
    "import logging\n",
    "import collections\n",
    "import pymongo,time\n",
    "from secrets import *"
   ]
  },
  {
   "cell_type": "markdown",
   "metadata": {},
   "source": [
    "### Summary\n",
    "Script to scrape content from Facebook API.\n",
    "Collects\n",
    "1. Pages matching a keyword query\n",
    "2. Recent posts from these pages (limit set by API)\n",
    "3. Comments on these posts (it seems that likes on comments are not available)\n",
    "4. Likes on these posts  \n",
    "\n",
    "### Errors\n",
    "\n",
    "Needs robust error handling due to errors with API requests. More detail [here](https://developers.facebook.com/docs/graph-api/using-graph-api/v2.4#errors)\n",
    "\n",
    "* ``Error 500 {\"error\":{\"message\":\"An unexpected error has occurred. Please retry your request later.\",\"type\":\"OAuthException\",\"is_transient\":true,\"code\":2}}``\n",
    "* ``Error 500 {\"error\":{\"code\":1,\"message\":\"An unknown error occurred\"}}``\n",
    "* ``ConnectionError: ('Connection aborted.', gaierror(-2, 'Name or service not known'))``\n",
    "\n",
    "### TODO\n",
    "\n",
    "* ~~Get likes on comments~~\n",
    "* ~~Have a restart page ID, so we can pick up if scraping fails~~\n",
    "* Write a script to check for new posts on pages that already exist in DB \n",
    "* Add a record of when data was pulled  "
   ]
  },
  {
   "cell_type": "markdown",
   "metadata": {},
   "source": [
    "Mongo tutorial [here](http://api.mongodb.org/python/current/tutorial.html)"
   ]
  },
  {
   "cell_type": "code",
   "execution_count": 2,
   "metadata": {
    "collapsed": true
   },
   "outputs": [],
   "source": [
    "from pymongo import MongoClient\n",
    "client = MongoClient()\n",
    "db = client.fb\n",
    "pagesCollection = db.pages\n",
    "postsCollection = db.posts\n",
    "commentsCollection = db.comments\n",
    "likesCollection=db.likes"
   ]
  },
  {
   "cell_type": "markdown",
   "metadata": {},
   "source": [
    "### Set up query to grab pages"
   ]
  },
  {
   "cell_type": "code",
   "execution_count": 3,
   "metadata": {
    "collapsed": false
   },
   "outputs": [],
   "source": [
    "\n",
    "ands=[]\n",
    "#ands.append('أوروبا') # Europe\n",
    "#ands.append('ألمانيا')\n",
    "#ands.append('المانيا') # Germany (two alternate spellings)\n",
    "\n",
    "ors=[]\n",
    "ors.append('مهاجرون') # Refugees\n",
    "ors.append('مهاجرين') # Refugees\n",
    "ors.append('المهاجرين') # The refugees\n",
    "ors.append('المهاجرون') # The refugees\n",
    "ors.append('المهاجرون') # The refugees\n",
    "ors.append('مهاجرون') # refugees\n",
    "ors.append('هجرة') # Migration\n",
    "ors.append('الهجرة') # The migration\n",
    "ors.append('أوروبا') # Europe\n",
    "ors.append('سوريا') # Syria\n",
    "\n",
    "ors=[]\n",
    "ors.append('مهرب') # Trafficker\n",
    "ors.append('المتاجرين') # Traffickers\n",
    "\n",
    "#QUERY='+'.join(ands)+'+'\n",
    "#QUERY='|'.join(ors)\n",
    "#QUERY='syria'\n",
    "#QUERY='سوريا'\n",
    "QUERY='أوروبا' # Europe\n",
    "#QUERY=u'اوروبا'\n",
    "#QUERY=u'اللجوء' # asylum\n",
    "#QUERY=u'ملجأ' # asylum\n",
    "# 'Europe' + 'ANY ['migration']...'\n",
    "LIMIT=1000\n",
    "# Page limit\n",
    "postsLimit=250\n",
    "# Hard limit from API=250\n",
    "\n",
    "nSkip=5\n",
    "# Hit API for query nSkip times\n",
    "# before skipping\n",
    "\n",
    "nWait=60\n",
    "# Wait between API errors\n",
    "\n",
    "postSleepTime=0.5\n",
    "pageSleepTime=10\n",
    "# Pause so API not thrashed"
   ]
  },
  {
   "cell_type": "markdown",
   "metadata": {},
   "source": [
    "### Some boilerplate DB functions"
   ]
  },
  {
   "cell_type": "code",
   "execution_count": 4,
   "metadata": {
    "collapsed": true
   },
   "outputs": [],
   "source": [
    "def countCollections():\n",
    "    print '%d pages' % pagesCollection.count()\n",
    "    print '%d posts' % postsCollection.count()\n",
    "    print '%d comments' % commentsCollection.count()\n",
    "    print '%d likes' % likesCollection.count()"
   ]
  },
  {
   "cell_type": "code",
   "execution_count": 5,
   "metadata": {
    "collapsed": false
   },
   "outputs": [],
   "source": [
    "def clean(s):\n",
    "    if s:\n",
    "        s=re.sub(',|;|:|\"|\\'|\\?|\\(|\\)|\\n|\\t|\\-|\\=|\\+',' ',s.lower())\n",
    "        return s.strip()\n",
    "    else:\n",
    "        return None"
   ]
  },
  {
   "cell_type": "code",
   "execution_count": 6,
   "metadata": {
    "collapsed": true
   },
   "outputs": [],
   "source": [
    "def addCommentsToDb(commentsData):\n",
    "    nAdded=nAlready=0\n",
    "    for comment in commentsData['data']:\n",
    "        if not isCommentInDb(comment['id']):\n",
    "            commentsCollection.insert_one(comment)\n",
    "            nAdded+=1\n",
    "        else:\n",
    "            nAlready+=1\n",
    "    logging.warning('%d comments added (%d already in DB)' % (nAdded,nAlready))"
   ]
  },
  {
   "cell_type": "code",
   "execution_count": 7,
   "metadata": {
    "collapsed": true
   },
   "outputs": [],
   "source": [
    "def addPageToDb(page):\n",
    "    pagesCollection.insert_one(page)"
   ]
  },
  {
   "cell_type": "code",
   "execution_count": 8,
   "metadata": {
    "collapsed": true
   },
   "outputs": [],
   "source": [
    "def clearCollection(collection=None):\n",
    "    \n",
    "    all=False\n",
    "    answer=True\n",
    "    \n",
    "    if not collection or collection.lower().strip()=='all':\n",
    "        answer=raw_input('Clear all?')\n",
    "        if answer.lower().strip() in ['y','yes']:\n",
    "            all=True\n",
    "            \n",
    "    if all or collection=='likes':\n",
    "        if not all:answer=raw_input('Clear likes?')\n",
    "        if all or answer.lower().strip() in ['y','yes']:\n",
    "            res=likesCollection.remove()\n",
    "            print 'Cleared %d likes' % res['n']\n",
    "            \n",
    "    if all or collection=='pages':\n",
    "        if not all:answer=raw_input('Clear pages?')\n",
    "        if all or answer.lower().strip() in ['y','yes']:\n",
    "            res=pagesCollection.remove()\n",
    "            print 'Cleared %d pages' % res['n']\n",
    "\n",
    "            \n",
    "    if all or collection=='comments':\n",
    "        if not all:answer=raw_input('Clear comments?')\n",
    "        if all or answer.lower().strip() in ['y','yes']:\n",
    "            res=commentsCollection.remove()\n",
    "            print 'Cleared %d comments' % res['n']\n",
    "\n",
    "            \n",
    "    if all or collection=='posts':\n",
    "        if not all:answer=raw_input('Clear posts?')\n",
    "        if all or answer.lower().strip() in ['y','yes']:\n",
    "            res=postsCollection.remove()\n",
    "            print 'Cleared %d posts' % res['n']\n"
   ]
  },
  {
   "cell_type": "code",
   "execution_count": 9,
   "metadata": {
    "collapsed": false
   },
   "outputs": [
    {
     "name": "stdout",
     "output_type": "stream",
     "text": [
      "1146 pages\n",
      "101845 posts\n",
      "208517 comments\n",
      "122224 likes\n"
     ]
    }
   ],
   "source": [
    "countCollections()"
   ]
  },
  {
   "cell_type": "code",
   "execution_count": null,
   "metadata": {
    "collapsed": false
   },
   "outputs": [],
   "source": [
    "clearCollection('all')"
   ]
  },
  {
   "cell_type": "code",
   "execution_count": 11,
   "metadata": {
    "collapsed": true
   },
   "outputs": [],
   "source": [
    "def addLikesToDb(likes):\n",
    "    nAdded=nAlready=0\n",
    "    for like in likes['data']:\n",
    "        if not isLikeInDb(like['id']):\n",
    "            likesCollection.insert_one(like)\n",
    "            nAdded+=1\n",
    "        else:\n",
    "            nAlready+=1\n",
    "    logging.warning('%d likes added (%d already in DB)' % (nAdded,nAlready))"
   ]
  },
  {
   "cell_type": "code",
   "execution_count": 12,
   "metadata": {
    "collapsed": false
   },
   "outputs": [],
   "source": [
    "def addPostToDb(post):\n",
    "    print 'Adding posts'\n",
    "    postsCollection.insert_one(post)"
   ]
  },
  {
   "cell_type": "code",
   "execution_count": 13,
   "metadata": {
    "collapsed": true
   },
   "outputs": [],
   "source": [
    "def isLikeInDb(id):\n",
    "    '''\n",
    "    Tests if a like is in comments collection\n",
    "    Returns Bool\n",
    "    '''\n",
    "    nMatches=likesCollection.find({'id':id}).count()\n",
    "    if nMatches==0:\n",
    "        return False\n",
    "    elif nMatches==1:\n",
    "        return True\n",
    "    else:\n",
    "        logging.warning('Duplicate like %s' % id)\n",
    "        return True"
   ]
  },
  {
   "cell_type": "code",
   "execution_count": 14,
   "metadata": {
    "collapsed": true
   },
   "outputs": [],
   "source": [
    "def isCommentInDb(id):\n",
    "    '''\n",
    "    Tests if a comment is in comments collection\n",
    "    Returns Bool\n",
    "    '''\n",
    "    nMatches=commentsCollection.find({'id':id}).count()\n",
    "    if nMatches==0:\n",
    "        return False\n",
    "    elif nMatches==1:\n",
    "        return True\n",
    "    else:\n",
    "#        logging.warning('Duplicate comment %s' % id)\n",
    "        return True"
   ]
  },
  {
   "cell_type": "code",
   "execution_count": 31,
   "metadata": {
    "collapsed": true
   },
   "outputs": [],
   "source": [
    "def addTimestampToPage(id):\n",
    "    '''\n",
    "    Adds current timestamp to page \n",
    "    '''\n",
    "    pagesCollection.update({'id':id},{'$set':{'checked':[int(time.time())]}})"
   ]
  },
  {
   "cell_type": "code",
   "execution_count": 32,
   "metadata": {
    "collapsed": true
   },
   "outputs": [],
   "source": [
    "def updatePageTimestamp(id):\n",
    "    '''\n",
    "    Updates timestamp of page \n",
    "    '''\n",
    "    pagesCollection.update({'id':id},{'$addToSet':{'checked':int(time.time())}})"
   ]
  },
  {
   "cell_type": "code",
   "execution_count": 50,
   "metadata": {
    "collapsed": true
   },
   "outputs": [],
   "source": [
    "def isPostInDb(id):\n",
    "    '''\n",
    "    Tests if a post is in post collection\n",
    "    Returns Bool\n",
    "    '''\n",
    "    nMatches=postsCollection.find({'id':id}).count()\n",
    "    if nMatches==0:\n",
    "        return False\n",
    "    elif nMatches==1:\n",
    "        return True\n",
    "    else:\n",
    "#        logging.warning('Duplicate post %s' % id)\n",
    "        return True"
   ]
  },
  {
   "cell_type": "code",
   "execution_count": 51,
   "metadata": {
    "collapsed": true
   },
   "outputs": [],
   "source": [
    "def isPageInDb(id):\n",
    "    '''\n",
    "    Tests if a page is in pages collection\n",
    "    Returns Bool\n",
    "    '''\n",
    "    nMatches=pagesCollection.find({'id':id}).count()\n",
    "    \n",
    "    if nMatches==0:\n",
    "        return False\n",
    "    elif nMatches==1:\n",
    "        return True\n",
    "    else:\n",
    "#        logging.warning('Duplicate page %s' % id)\n",
    "        return True"
   ]
  },
  {
   "cell_type": "markdown",
   "metadata": {},
   "source": [
    "### How to deal with API errors"
   ]
  },
  {
   "cell_type": "code",
   "execution_count": 36,
   "metadata": {
    "collapsed": false
   },
   "outputs": [],
   "source": [
    "def handleResult(statusCode,returnText):\n",
    "    '''\n",
    "    Parses API call result to determine if successful\n",
    "    or to wait or abandon\n",
    "    Returns success,skip (both Bool)\n",
    "    '''\n",
    "    if statusCode==200:\n",
    "        # OK\n",
    "        return True,False\n",
    "    \n",
    "    if statusCode in [102,10,463,467]:\n",
    "        # Access token expired\n",
    "        logging.warning('API error: %d %s' % (statusCode,returnText))\n",
    "        return False,True\n",
    "    elif statusCode in [2,4,17,341,500]:\n",
    "        # Wait and retry\n",
    "        logging.warning('API error - waiting: %d %s' % (statusCode,returnText))\n",
    "        return False,False\n",
    "    elif statusCode in [506,1609005]:\n",
    "        # Skip\n",
    "        logging.warning('API error - skipping: %d %s' % (statusCode,returnText))\n",
    "        return False,True\n",
    "    else:\n",
    "        logging.warning('API error - unknown code %d %s' % (statusCode,returnText))\n",
    "        return False, True"
   ]
  },
  {
   "cell_type": "markdown",
   "metadata": {},
   "source": [
    "### Start by looping through pages"
   ]
  },
  {
   "cell_type": "code",
   "execution_count": 37,
   "metadata": {
    "collapsed": false
   },
   "outputs": [],
   "source": [
    "######################################################\n",
    "success=None\n",
    "nAttempts=0\n",
    "\n",
    "temp='https://graph.facebook.com/search?q=%s&limit=%d&type=page&access_token=%s' % (QUERY, LIMIT, ACCESSTOKEN)\n",
    "\n",
    "while not success:\n",
    "    # Keep looping if unsuccessful\n",
    "    r=requests.get(temp)\n",
    "    success,skip=handleResult(r.status_code,r.text)\n",
    "    # Try, find out if successful or should skip\n",
    "    \n",
    "    if skip or nAttempts==nSkip:\n",
    "        # If tried nSkip times or if should skip\n",
    "        r={'data':[],'paging':None}\n",
    "        if nAttempts==nSkip:\n",
    "            logging.warning('Skipping after %d attempts' % nAttempts)\n",
    "            break\n",
    "    time.sleep(nWait)\n",
    "    nAttempts+=1\n",
    "######################################################"
   ]
  },
  {
   "cell_type": "code",
   "execution_count": null,
   "metadata": {
    "collapsed": false
   },
   "outputs": [],
   "source": [
    "getPostsFromPage(307091372652912)"
   ]
  },
  {
   "cell_type": "code",
   "execution_count": null,
   "metadata": {
    "collapsed": false
   },
   "outputs": [
    {
     "name": "stderr",
     "output_type": "stream",
     "text": [
      "WARNING:root:0 posts added (0 already in DB)\n"
     ]
    },
    {
     "name": "stdout",
     "output_type": "stream",
     "text": [
      "0 Europe\n",
      "http://fb.com/612622758878101 Continent\n",
      "['category', 'about', u'talking_about_count', u'description', 'retrieved', u'engagement', u'description_en', u'likes', u'id', 'name']\n",
      "1 أوروبا\n",
      "Translates: "
     ]
    },
    {
     "name": "stderr",
     "output_type": "stream",
     "text": [
      "/home/turing/anaconda/lib/python2.7/site-packages/ipykernel/__main__.py:5: DeprecationWarning: update is deprecated. Use replace_one, update_one or update_many instead.\n",
      "WARNING:root:No description for page 776373632471822\n",
      "WARNING:root:Keys [u'start_info', u'talking_about_count', 'retrieved', u'engagement', u'likes', u'id']\n"
     ]
    },
    {
     "name": "stdout",
     "output_type": "stream",
     "text": [
      " europe\n",
      "http://fb.com/776373632471822 Community\n",
      "Post 0 Photos from ‎أوروبا‎'s post 776373632471822_792796697496182"
     ]
    },
    {
     "name": "stderr",
     "output_type": "stream",
     "text": [
      "WARNING:root:No description for post 776373632471822_792796697496182\n",
      "WARNING:root:No caption for post 776373632471822_792796697496182\n",
      "WARNING:root:0 likes added (2 already in DB)\n"
     ]
    },
    {
     "name": "stdout",
     "output_type": "stream",
     "text": [
      "\n",
      "Got 2 likes after paging\n",
      "Post 1 Timeline Photos 776373632471822_780756755366843"
     ]
    },
    {
     "name": "stderr",
     "output_type": "stream",
     "text": [
      "WARNING:root:No description for post 776373632471822_780756755366843\n",
      "WARNING:root:No caption for post 776373632471822_780756755366843\n"
     ]
    },
    {
     "name": "stdout",
     "output_type": "stream",
     "text": [
      "\n",
      "Got 6 likes after paging"
     ]
    },
    {
     "name": "stderr",
     "output_type": "stream",
     "text": [
      "WARNING:root:0 likes added (6 already in DB)\n"
     ]
    },
    {
     "name": "stdout",
     "output_type": "stream",
     "text": [
      "\n",
      "Post 2 Timeline Photos 776373632471822_780753652033820"
     ]
    },
    {
     "name": "stderr",
     "output_type": "stream",
     "text": [
      "WARNING:root:No description for post 776373632471822_780753652033820\n",
      "WARNING:root:No caption for post 776373632471822_780753652033820\n",
      "WARNING:root:0 comments added (1 already in DB)\n"
     ]
    },
    {
     "name": "stdout",
     "output_type": "stream",
     "text": [
      "\n",
      "Got 3 likes after paging"
     ]
    },
    {
     "name": "stderr",
     "output_type": "stream",
     "text": [
      "WARNING:root:0 likes added (3 already in DB)\n"
     ]
    },
    {
     "name": "stdout",
     "output_type": "stream",
     "text": [
      "\n",
      "Post 3 أوروبا 776373632471822_779454045497114"
     ]
    },
    {
     "name": "stderr",
     "output_type": "stream",
     "text": [
      "WARNING:root:No message for post 776373632471822_779454045497114\n",
      "WARNING:root:No description for post 776373632471822_779454045497114\n",
      "WARNING:root:No caption for post 776373632471822_779454045497114\n",
      "WARNING:root:0 likes added (2 already in DB)\n"
     ]
    },
    {
     "name": "stdout",
     "output_type": "stream",
     "text": [
      "\n",
      "Got 2 likes after paging\n",
      "Post 4 أوروبا 776373632471822_779454058830446"
     ]
    },
    {
     "name": "stderr",
     "output_type": "stream",
     "text": [
      "WARNING:root:No message for post 776373632471822_779454058830446\n",
      "WARNING:root:No description for post 776373632471822_779454058830446\n",
      "WARNING:root:No caption for post 776373632471822_779454058830446\n",
      "WARNING:root:0 likes added (2 already in DB)\n"
     ]
    },
    {
     "name": "stdout",
     "output_type": "stream",
     "text": [
      "\n",
      "Got 2 likes after paging\n",
      "Post 5 None 776373632471822_778704942238691"
     ]
    },
    {
     "name": "stderr",
     "output_type": "stream",
     "text": [
      "WARNING:root:No description for post 776373632471822_778704942238691\n",
      "WARNING:root:No caption for post 776373632471822_778704942238691\n"
     ]
    },
    {
     "name": "stdout",
     "output_type": "stream",
     "text": [
      "\n",
      "Got 2 likes after paging"
     ]
    },
    {
     "name": "stderr",
     "output_type": "stream",
     "text": [
      "WARNING:root:0 likes added (2 already in DB)\n"
     ]
    },
    {
     "name": "stdout",
     "output_type": "stream",
     "text": [
      "\n",
      "Post 6 Timeline Photos 776373632471822_778703305572188"
     ]
    },
    {
     "name": "stderr",
     "output_type": "stream",
     "text": [
      "WARNING:root:No description for post 776373632471822_778703305572188\n",
      "WARNING:root:No caption for post 776373632471822_778703305572188\n"
     ]
    },
    {
     "name": "stdout",
     "output_type": "stream",
     "text": [
      "\n",
      "Got 3 likes after paging"
     ]
    },
    {
     "name": "stderr",
     "output_type": "stream",
     "text": [
      "WARNING:root:0 likes added (3 already in DB)\n"
     ]
    },
    {
     "name": "stdout",
     "output_type": "stream",
     "text": [
      "\n",
      "Post 7 None 776373632471822_778397432269442"
     ]
    },
    {
     "name": "stderr",
     "output_type": "stream",
     "text": [
      "WARNING:root:No description for post 776373632471822_778397432269442\n",
      "WARNING:root:No caption for post 776373632471822_778397432269442\n"
     ]
    },
    {
     "name": "stdout",
     "output_type": "stream",
     "text": [
      "\n",
      "Got 2 likes after paging"
     ]
    },
    {
     "name": "stderr",
     "output_type": "stream",
     "text": [
      "WARNING:root:0 likes added (2 already in DB)\n"
     ]
    },
    {
     "name": "stdout",
     "output_type": "stream",
     "text": [
      "\n",
      "Post 8 None 776373632471822_777555369020315"
     ]
    },
    {
     "name": "stderr",
     "output_type": "stream",
     "text": [
      "WARNING:root:No description for post 776373632471822_777555369020315\n",
      "WARNING:root:No caption for post 776373632471822_777555369020315\n"
     ]
    },
    {
     "name": "stdout",
     "output_type": "stream",
     "text": [
      "\n",
      "Got 3 likes after paging"
     ]
    },
    {
     "name": "stderr",
     "output_type": "stream",
     "text": [
      "WARNING:root:0 likes added (3 already in DB)\n"
     ]
    },
    {
     "name": "stdout",
     "output_type": "stream",
     "text": [
      "\n",
      "Post 9 Dj nassim mosta cheb houssem zahri winta yatfakarn 776373632471822_777548442354341\n",
      "Got 3 likes after paging"
     ]
    },
    {
     "name": "stderr",
     "output_type": "stream",
     "text": [
      "WARNING:root:0 likes added (3 already in DB)\n"
     ]
    },
    {
     "name": "stdout",
     "output_type": "stream",
     "text": [
      "\n",
      "Post 10 Timeline Photos 776373632471822_777546825687836"
     ]
    },
    {
     "name": "stderr",
     "output_type": "stream",
     "text": [
      "WARNING:root:No description for post 776373632471822_777546825687836\n",
      "WARNING:root:No caption for post 776373632471822_777546825687836\n"
     ]
    },
    {
     "name": "stdout",
     "output_type": "stream",
     "text": [
      "\n",
      "Got 3 likes after paging"
     ]
    },
    {
     "name": "stderr",
     "output_type": "stream",
     "text": [
      "WARNING:root:0 likes added (3 already in DB)\n"
     ]
    },
    {
     "name": "stdout",
     "output_type": "stream",
     "text": [
      "\n",
      "Post 11 Timeline Photos 776373632471822_777546419021210"
     ]
    },
    {
     "name": "stderr",
     "output_type": "stream",
     "text": [
      "WARNING:root:No description for post 776373632471822_777546419021210\n",
      "WARNING:root:No caption for post 776373632471822_777546419021210\n"
     ]
    },
    {
     "name": "stdout",
     "output_type": "stream",
     "text": [
      "\n",
      "Got 5 likes after paging"
     ]
    },
    {
     "name": "stderr",
     "output_type": "stream",
     "text": [
      "WARNING:root:0 likes added (5 already in DB)\n"
     ]
    },
    {
     "name": "stdout",
     "output_type": "stream",
     "text": [
      "\n",
      "Post 12 Timeline Photos 776373632471822_777253355717183"
     ]
    },
    {
     "name": "stderr",
     "output_type": "stream",
     "text": [
      "WARNING:root:No description for post 776373632471822_777253355717183\n",
      "WARNING:root:No caption for post 776373632471822_777253355717183\n",
      "WARNING:root:0 likes added (4 already in DB)\n"
     ]
    },
    {
     "name": "stdout",
     "output_type": "stream",
     "text": [
      "\n",
      "Got 4 likes after paging\n",
      "Post 13 Timeline Photos 776373632471822_777253062383879"
     ]
    },
    {
     "name": "stderr",
     "output_type": "stream",
     "text": [
      "WARNING:root:No description for post 776373632471822_777253062383879\n",
      "WARNING:root:No caption for post 776373632471822_777253062383879\n"
     ]
    },
    {
     "name": "stdout",
     "output_type": "stream",
     "text": [
      "\n",
      "Got 4 likes after paging"
     ]
    },
    {
     "name": "stderr",
     "output_type": "stream",
     "text": [
      "WARNING:root:0 likes added (4 already in DB)\n"
     ]
    },
    {
     "name": "stdout",
     "output_type": "stream",
     "text": [
      "\n",
      "Post 14 أوروبا 776373632471822_776791169096735"
     ]
    },
    {
     "name": "stderr",
     "output_type": "stream",
     "text": [
      "WARNING:root:No message for post 776373632471822_776791169096735\n",
      "WARNING:root:No description for post 776373632471822_776791169096735\n",
      "WARNING:root:No caption for post 776373632471822_776791169096735\n",
      "WARNING:root:0 likes added (5 already in DB)\n"
     ]
    },
    {
     "name": "stdout",
     "output_type": "stream",
     "text": [
      "\n",
      "Got 5 likes after paging\n",
      "Post 15 Timeline Photos 776373632471822_776789995763519"
     ]
    },
    {
     "name": "stderr",
     "output_type": "stream",
     "text": [
      "WARNING:root:No description for post 776373632471822_776789995763519\n",
      "WARNING:root:No caption for post 776373632471822_776789995763519\n"
     ]
    },
    {
     "name": "stdout",
     "output_type": "stream",
     "text": [
      "\n",
      "Got 5 likes after paging"
     ]
    },
    {
     "name": "stderr",
     "output_type": "stream",
     "text": [
      "WARNING:root:0 likes added (5 already in DB)\n"
     ]
    },
    {
     "name": "stdout",
     "output_type": "stream",
     "text": [
      "\n",
      "Post 16 Untitled Album 776373632471822_776377552471430"
     ]
    },
    {
     "name": "stderr",
     "output_type": "stream",
     "text": [
      "WARNING:root:No message for post 776373632471822_776377552471430\n",
      "WARNING:root:No description for post 776373632471822_776377552471430\n",
      "WARNING:root:No caption for post 776373632471822_776377552471430\n",
      "WARNING:root:0 likes added (8 already in DB)\n"
     ]
    },
    {
     "name": "stdout",
     "output_type": "stream",
     "text": [
      "\n",
      "Got 8 likes after paging\n",
      "Post 17 Timeline Photos 776373632471822_776375989138253"
     ]
    },
    {
     "name": "stderr",
     "output_type": "stream",
     "text": [
      "WARNING:root:No description for post 776373632471822_776375989138253\n",
      "WARNING:root:No caption for post 776373632471822_776375989138253\n"
     ]
    },
    {
     "name": "stdout",
     "output_type": "stream",
     "text": [
      "\n",
      "Got 6 likes after paging"
     ]
    },
    {
     "name": "stderr",
     "output_type": "stream",
     "text": [
      "WARNING:root:0 likes added (6 already in DB)\n"
     ]
    },
    {
     "name": "stdout",
     "output_type": "stream",
     "text": [
      "\n",
      "Post 18 Timeline Photos 776373632471822_776375602471625"
     ]
    },
    {
     "name": "stderr",
     "output_type": "stream",
     "text": [
      "WARNING:root:No description for post 776373632471822_776375602471625\n",
      "WARNING:root:No caption for post 776373632471822_776375602471625\n"
     ]
    },
    {
     "name": "stdout",
     "output_type": "stream",
     "text": [
      "\n",
      "Got 5 likes after paging"
     ]
    },
    {
     "name": "stderr",
     "output_type": "stream",
     "text": [
      "WARNING:root:0 likes added (5 already in DB)\n"
     ]
    },
    {
     "name": "stdout",
     "output_type": "stream",
     "text": [
      "\n",
      "Post 19 ‎أوروبا‎'s cover photo 776373632471822_776374755805043"
     ]
    },
    {
     "name": "stderr",
     "output_type": "stream",
     "text": [
      "WARNING:root:No message for post 776373632471822_776374755805043\n",
      "WARNING:root:No description for post 776373632471822_776374755805043\n",
      "WARNING:root:No caption for post 776373632471822_776374755805043\n",
      "WARNING:root:0 likes added (5 already in DB)\n"
     ]
    },
    {
     "name": "stdout",
     "output_type": "stream",
     "text": [
      "\n",
      "Got 5 likes after paging\n",
      "Post 20 أوروبا 776373632471822_776373812471804"
     ]
    },
    {
     "name": "stderr",
     "output_type": "stream",
     "text": [
      "WARNING:root:No message for post 776373632471822_776373812471804\n",
      "WARNING:root:No description for post 776373632471822_776373812471804\n",
      "WARNING:root:No caption for post 776373632471822_776373812471804\n",
      "WARNING:root:0 likes added (5 already in DB)\n"
     ]
    },
    {
     "name": "stdout",
     "output_type": "stream",
     "text": [
      "\n",
      "Got 5 likes after paging\n",
      "Adding posts"
     ]
    },
    {
     "name": "stderr",
     "output_type": "stream",
     "text": [
      "WARNING:root:1 posts added (20 already in DB)\n"
     ]
    },
    {
     "name": "stdout",
     "output_type": "stream",
     "text": [
      "\n",
      "['category', 'about', u'talking_about_count', 'name', 'retrieved', u'engagement', u'likes', 'name_en', u'id', 'description']\n",
      "2 اوروبا\n",
      "Translates: "
     ]
    },
    {
     "name": "stderr",
     "output_type": "stream",
     "text": [
      "WARNING:root:No description for page 198373520174674\n",
      "WARNING:root:Keys [u'start_info', u'talking_about_count', 'retrieved', u'engagement', u'likes', u'id']\n"
     ]
    },
    {
     "name": "stdout",
     "output_type": "stream",
     "text": [
      " europe\n",
      "http://fb.com/198373520174674 Computers/Technology\n",
      "Post 0 None 198373520174674_429666223712068"
     ]
    },
    {
     "name": "stderr",
     "output_type": "stream",
     "text": [
      "WARNING:root:No description for post 198373520174674_429666223712068\n",
      "WARNING:root:No caption for post 198373520174674_429666223712068\n"
     ]
    },
    {
     "name": "stdout",
     "output_type": "stream",
     "text": [
      "\n",
      "Got 1 likes after paging"
     ]
    },
    {
     "name": "stderr",
     "output_type": "stream",
     "text": [
      "WARNING:root:0 likes added (1 already in DB)\n"
     ]
    },
    {
     "name": "stdout",
     "output_type": "stream",
     "text": [
      "\n",
      "Post 1 None 198373520174674_429665903712100"
     ]
    },
    {
     "name": "stderr",
     "output_type": "stream",
     "text": [
      "WARNING:root:No description for post 198373520174674_429665903712100\n",
      "WARNING:root:No caption for post 198373520174674_429665903712100\n",
      "WARNING:root:0 posts added (2 already in DB)\n"
     ]
    },
    {
     "name": "stdout",
     "output_type": "stream",
     "text": [
      "\n",
      "['category', 'about', u'talking_about_count', 'name', 'retrieved', u'engagement', u'likes', 'name_en', u'id', 'description']\n",
      "3 اوروبا\n",
      "Translates: "
     ]
    },
    {
     "name": "stderr",
     "output_type": "stream",
     "text": [
      "WARNING:root:No description for page 594524630689703\n",
      "WARNING:root:Keys [u'start_info', u'about', u'talking_about_count', 'retrieved', u'engagement', u'likes', u'id']\n"
     ]
    },
    {
     "name": "stdout",
     "output_type": "stream",
     "text": [
      " europe\n",
      "http://fb.com/594524630689703 Community\n",
      "Post 0 None 594524630689703_598085223666977"
     ]
    },
    {
     "name": "stderr",
     "output_type": "stream",
     "text": [
      "WARNING:root:No description for post 594524630689703_598085223666977\n",
      "WARNING:root:No caption for post 594524630689703_598085223666977\n"
     ]
    },
    {
     "name": "stdout",
     "output_type": "stream",
     "text": [
      "\n",
      "Post 1 ‎اوروبا‎'s cover photo 594524630689703_594531834022316"
     ]
    },
    {
     "name": "stderr",
     "output_type": "stream",
     "text": [
      "WARNING:root:No message for post 594524630689703_594531834022316\n",
      "WARNING:root:No description for post 594524630689703_594531834022316\n",
      "WARNING:root:No caption for post 594524630689703_594531834022316\n",
      "WARNING:root:0 likes added (1 already in DB)\n"
     ]
    },
    {
     "name": "stdout",
     "output_type": "stream",
     "text": [
      "\n",
      "Got 1 likes after paging\n",
      "Post 2 اوروبا 594524630689703_594531727355660"
     ]
    },
    {
     "name": "stderr",
     "output_type": "stream",
     "text": [
      "WARNING:root:No message for post 594524630689703_594531727355660\n",
      "WARNING:root:No description for post 594524630689703_594531727355660\n",
      "WARNING:root:No caption for post 594524630689703_594531727355660\n",
      "WARNING:root:0 likes added (1 already in DB)\n",
      "WARNING:root:0 posts added (3 already in DB)\n"
     ]
    },
    {
     "name": "stdout",
     "output_type": "stream",
     "text": [
      "\n",
      "Got 1 likes after paging\n",
      "['category', u'about', u'talking_about_count', 'name', 'retrieved', u'engagement', u'likes', u'about_en', 'name_en', u'id', 'description']\n",
      "4 اخبار المهاجرين في اوروبا\n",
      "Translates: "
     ]
    },
    {
     "name": "stderr",
     "output_type": "stream",
     "text": [
      "WARNING:root:No description for page 307091372652912\n",
      "WARNING:root:Keys [u'website', u'start_info', u'about', u'talking_about_count', 'retrieved', u'engagement', u'likes', u'id']\n"
     ]
    },
    {
     "name": "stdout",
     "output_type": "stream",
     "text": [
      " news of migrants in europe\n",
      "http://fb.com/307091372652912 Community\n",
      "Post 0 None 307091372652912_1001167463245296"
     ]
    },
    {
     "name": "stderr",
     "output_type": "stream",
     "text": [
      "WARNING:root:No description for post 307091372652912_1001167463245296\n",
      "WARNING:root:No caption for post 307091372652912_1001167463245296\n",
      "WARNING:root:0 comments added (37 already in DB)\n"
     ]
    },
    {
     "name": "stdout",
     "output_type": "stream",
     "text": [
      "\n",
      "Got next page of likes (current) (25 so far)\n",
      "Got next page of likes (current) (50 so far)\n",
      "Got next page of likes (current) (75 so far)\n",
      "Got next page of likes (current) (100 so far)\n",
      "Got next page of likes (current) (125 so far)\n",
      "Got next page of likes (current) (150 so far)\n",
      "Got next page of likes (current) (175 so far)\n",
      "Got next page of likes (current) (200 so far)"
     ]
    },
    {
     "name": "stderr",
     "output_type": "stream",
     "text": [
      "WARNING:root:0 likes added (208 already in DB)\n"
     ]
    },
    {
     "name": "stdout",
     "output_type": "stream",
     "text": [
      "\n",
      "Got 208 likes after paging\n",
      "Post 1 اخبار المهاجرين في اوروبا 307091372652912_822407197787991"
     ]
    },
    {
     "name": "stderr",
     "output_type": "stream",
     "text": [
      "WARNING:root:No caption for post 307091372652912_822407197787991\n",
      "WARNING:root:0 comments added (25 already in DB)\n"
     ]
    },
    {
     "name": "stdout",
     "output_type": "stream",
     "text": [
      "\n",
      "Got next page of likes (current) (25 so far)\n",
      "Got next page of likes (current) (50 so far)\n",
      "Got next page of likes (current) (75 so far)\n",
      "Got next page of likes (current) (100 so far)\n",
      "Got next page of likes (current) (125 so far)\n",
      "Got next page of likes (current) (150 so far)\n",
      "Got next page of likes (current) (175 so far)\n",
      "Got next page of likes (current) (200 so far)\n",
      "Got next page of likes (current) (225 so far)\n",
      "Got next page of likes (current) (250 so far)"
     ]
    },
    {
     "name": "stderr",
     "output_type": "stream",
     "text": [
      "WARNING:root:0 likes added (254 already in DB)\n"
     ]
    },
    {
     "name": "stdout",
     "output_type": "stream",
     "text": [
      "\n",
      "Got 254 likes after paging\n",
      "Post 2 None 307091372652912_822401507788560"
     ]
    },
    {
     "name": "stderr",
     "output_type": "stream",
     "text": [
      "WARNING:root:No description for post 307091372652912_822401507788560\n",
      "WARNING:root:No caption for post 307091372652912_822401507788560\n",
      "WARNING:root:0 comments added (16 already in DB)\n"
     ]
    },
    {
     "name": "stdout",
     "output_type": "stream",
     "text": [
      "\n",
      "Got next page of likes (current) (25 so far)\n",
      "Got next page of likes (current) (50 so far)\n",
      "Got next page of likes (current) (75 so far)\n",
      "Got next page of likes (current) (100 so far)\n",
      "Got next page of likes (current) (125 so far)\n",
      "Got next page of likes (current) (150 so far)"
     ]
    },
    {
     "name": "stderr",
     "output_type": "stream",
     "text": [
      "WARNING:root:0 likes added (151 already in DB)\n"
     ]
    },
    {
     "name": "stdout",
     "output_type": "stream",
     "text": [
      "\n",
      "Got 151 likes after paging\n",
      "Post 3 experiencesvideoludiques.com 307091372652912_822400144455363"
     ]
    },
    {
     "name": "stderr",
     "output_type": "stream",
     "text": [
      "WARNING:root:No description for post 307091372652912_822400144455363\n",
      "WARNING:root:0 comments added (14 already in DB)\n"
     ]
    },
    {
     "name": "stdout",
     "output_type": "stream",
     "text": [
      "\n",
      "Got next page of likes (current) (25 so far)\n",
      "Got next page of likes (current) (50 so far)\n",
      "Got next page of likes (current) (75 so far)\n",
      "Got next page of likes (current) (100 so far)"
     ]
    },
    {
     "name": "stderr",
     "output_type": "stream",
     "text": [
      "WARNING:root:0 likes added (117 already in DB)\n"
     ]
    },
    {
     "name": "stdout",
     "output_type": "stream",
     "text": [
      "\n",
      "Got 117 likes after paging\n",
      "Post 4 None 307091372652912_822395634455814"
     ]
    },
    {
     "name": "stderr",
     "output_type": "stream",
     "text": [
      "WARNING:root:No description for post 307091372652912_822395634455814\n",
      "WARNING:root:No caption for post 307091372652912_822395634455814\n",
      "WARNING:root:0 comments added (6 already in DB)\n"
     ]
    },
    {
     "name": "stdout",
     "output_type": "stream",
     "text": [
      "\n",
      "Got next page of likes (current) (25 so far)\n",
      "Got next page of likes (current) (50 so far)"
     ]
    },
    {
     "name": "stderr",
     "output_type": "stream",
     "text": [
      "WARNING:root:0 likes added (62 already in DB)\n"
     ]
    },
    {
     "name": "stdout",
     "output_type": "stream",
     "text": [
      "\n",
      "Got 62 likes after paging\n",
      "Post 5 www.mohager.com 307091372652912_819297228098988"
     ]
    },
    {
     "name": "stderr",
     "output_type": "stream",
     "text": [
      "WARNING:root:No description for post 307091372652912_819297228098988\n",
      "WARNING:root:0 comments added (4 already in DB)\n"
     ]
    },
    {
     "name": "stdout",
     "output_type": "stream",
     "text": [
      "\n",
      "Got next page of likes (current) (25 so far)\n",
      "Got next page of likes (current) (50 so far)"
     ]
    },
    {
     "name": "stderr",
     "output_type": "stream",
     "text": [
      "WARNING:root:0 likes added (58 already in DB)\n"
     ]
    },
    {
     "name": "stdout",
     "output_type": "stream",
     "text": [
      "\n",
      "Got 58 likes after paging\n",
      "Post 6 None 307091372652912_819296131432431"
     ]
    },
    {
     "name": "stderr",
     "output_type": "stream",
     "text": [
      "WARNING:root:No description for post 307091372652912_819296131432431\n",
      "WARNING:root:No caption for post 307091372652912_819296131432431\n",
      "WARNING:root:0 comments added (6 already in DB)\n"
     ]
    },
    {
     "name": "stdout",
     "output_type": "stream",
     "text": [
      "\n",
      "Got next page of likes (current) (25 so far)\n",
      "Got next page of likes (current) (50 so far)"
     ]
    },
    {
     "name": "stderr",
     "output_type": "stream",
     "text": [
      "WARNING:root:0 likes added (61 already in DB)\n"
     ]
    },
    {
     "name": "stdout",
     "output_type": "stream",
     "text": [
      "\n",
      "Got 61 likes after paging\n",
      "Post 7 None 307091372652912_818180994877278"
     ]
    },
    {
     "name": "stderr",
     "output_type": "stream",
     "text": [
      "WARNING:root:No description for post 307091372652912_818180994877278\n",
      "WARNING:root:No caption for post 307091372652912_818180994877278\n",
      "WARNING:root:0 comments added (5 already in DB)\n"
     ]
    },
    {
     "name": "stdout",
     "output_type": "stream",
     "text": [
      "\n",
      "Got next page of likes (current) (25 so far)\n",
      "Got next page of likes (current) (50 so far)"
     ]
    },
    {
     "name": "stderr",
     "output_type": "stream",
     "text": [
      "WARNING:root:0 likes added (64 already in DB)\n"
     ]
    },
    {
     "name": "stdout",
     "output_type": "stream",
     "text": [
      "\n",
      "Got 64 likes after paging\n",
      "Post 8 None 307091372652912_818180434877334"
     ]
    },
    {
     "name": "stderr",
     "output_type": "stream",
     "text": [
      "WARNING:root:No description for post 307091372652912_818180434877334\n",
      "WARNING:root:No caption for post 307091372652912_818180434877334\n",
      "WARNING:root:0 comments added (2 already in DB)\n"
     ]
    },
    {
     "name": "stdout",
     "output_type": "stream",
     "text": [
      "\n",
      "Got next page of likes (current) (25 so far)"
     ]
    },
    {
     "name": "stderr",
     "output_type": "stream",
     "text": [
      "WARNING:root:0 likes added (48 already in DB)\n"
     ]
    },
    {
     "name": "stdout",
     "output_type": "stream",
     "text": [
      "\n",
      "Got 48 likes after paging\n",
      "Post 9 None 307091372652912_818180248210686"
     ]
    },
    {
     "name": "stderr",
     "output_type": "stream",
     "text": [
      "WARNING:root:No description for post 307091372652912_818180248210686\n",
      "WARNING:root:No caption for post 307091372652912_818180248210686\n",
      "WARNING:root:0 comments added (3 already in DB)\n"
     ]
    },
    {
     "name": "stdout",
     "output_type": "stream",
     "text": [
      "\n",
      "Got next page of likes (current) (25 so far)"
     ]
    },
    {
     "name": "stderr",
     "output_type": "stream",
     "text": [
      "WARNING:root:0 likes added (28 already in DB)\n"
     ]
    },
    {
     "name": "stdout",
     "output_type": "stream",
     "text": [
      "\n",
      "Got 28 likes after paging\n",
      "Post 10 http://www.ostio.de/wp-content/uploads/2013/02/Schengen-Visa.jpg 307091372652912_818179801544064"
     ]
    },
    {
     "name": "stderr",
     "output_type": "stream",
     "text": [
      "WARNING:root:No description for post 307091372652912_818179801544064\n",
      "WARNING:root:0 comments added (1 already in DB)\n"
     ]
    },
    {
     "name": "stdout",
     "output_type": "stream",
     "text": [
      "\n",
      "Got next page of likes (current) (25 so far)"
     ]
    },
    {
     "name": "stderr",
     "output_type": "stream",
     "text": [
      "WARNING:root:0 likes added (42 already in DB)\n"
     ]
    },
    {
     "name": "stdout",
     "output_type": "stream",
     "text": [
      "\n",
      "Got 42 likes after paging\n",
      "Post 11 None 307091372652912_818168661545178"
     ]
    },
    {
     "name": "stderr",
     "output_type": "stream",
     "text": [
      "WARNING:root:No description for post 307091372652912_818168661545178\n",
      "WARNING:root:No caption for post 307091372652912_818168661545178\n",
      "WARNING:root:0 comments added (7 already in DB)\n"
     ]
    },
    {
     "name": "stdout",
     "output_type": "stream",
     "text": [
      "\n",
      "Got next page of likes (current) (25 so far)\n",
      "Got next page of likes (current) (50 so far)\n",
      "Got next page of likes (current) (75 so far)\n",
      "Got next page of likes (current) (100 so far)"
     ]
    },
    {
     "name": "stderr",
     "output_type": "stream",
     "text": [
      "WARNING:root:0 likes added (102 already in DB)\n"
     ]
    },
    {
     "name": "stdout",
     "output_type": "stream",
     "text": [
      "\n",
      "Got 102 likes after paging\n",
      "Post 12 http://www.hibapress.com/upload/2742014-1c06e.jpg 307091372652912_818165441545500"
     ]
    },
    {
     "name": "stderr",
     "output_type": "stream",
     "text": [
      "WARNING:root:No description for post 307091372652912_818165441545500\n"
     ]
    },
    {
     "name": "stdout",
     "output_type": "stream",
     "text": [
      "\n",
      "Got 25 likes after paging"
     ]
    },
    {
     "name": "stderr",
     "output_type": "stream",
     "text": [
      "WARNING:root:0 likes added (25 already in DB)\n"
     ]
    },
    {
     "name": "stdout",
     "output_type": "stream",
     "text": [
      "\n",
      "Post 13 http://upload-alkompis.s3-eu-west-1.amazonaws.com/iblock/6dc/6dcbfc3753cb7e16484d8f2b4e5715d4/b9f531e3d305b8ad0033aa1e439ef2be.jpg 307091372652912_818163758212335"
     ]
    },
    {
     "name": "stderr",
     "output_type": "stream",
     "text": [
      "WARNING:root:No description for post 307091372652912_818163758212335\n",
      "WARNING:root:0 comments added (2 already in DB)\n"
     ]
    },
    {
     "name": "stdout",
     "output_type": "stream",
     "text": [
      "\n",
      "Got next page of likes (current) (25 so far)"
     ]
    },
    {
     "name": "stderr",
     "output_type": "stream",
     "text": [
      "WARNING:root:0 likes added (37 already in DB)\n"
     ]
    },
    {
     "name": "stdout",
     "output_type": "stream",
     "text": [
      "\n",
      "Got 37 likes after paging\n",
      "Post 14 http://www.oxfordnador.com/wp-content/uploads/2014/02/francais.jpg 307091372652912_818162498212461"
     ]
    },
    {
     "name": "stderr",
     "output_type": "stream",
     "text": [
      "WARNING:root:No description for post 307091372652912_818162498212461\n",
      "WARNING:root:0 comments added (6 already in DB)\n"
     ]
    },
    {
     "name": "stdout",
     "output_type": "stream",
     "text": [
      "\n",
      "Got next page of likes (current) (25 so far)"
     ]
    },
    {
     "name": "stderr",
     "output_type": "stream",
     "text": [
      "WARNING:root:0 likes added (34 already in DB)\n"
     ]
    },
    {
     "name": "stdout",
     "output_type": "stream",
     "text": [
      "\n",
      "Got 34 likes after paging\n",
      "Post 15 http://www.aawsat.com/2010/02/26/images/hassad1.558761.jpg 307091372652912_818161094879268"
     ]
    },
    {
     "name": "stderr",
     "output_type": "stream",
     "text": [
      "WARNING:root:No description for post 307091372652912_818161094879268\n",
      "WARNING:root:0 comments added (1 already in DB)\n"
     ]
    },
    {
     "name": "stdout",
     "output_type": "stream",
     "text": [
      "\n",
      "Got next page of likes (current) (25 so far)"
     ]
    },
    {
     "name": "stderr",
     "output_type": "stream",
     "text": [
      "WARNING:root:0 likes added (39 already in DB)\n"
     ]
    },
    {
     "name": "stdout",
     "output_type": "stream",
     "text": [
      "\n",
      "Got 39 likes after paging\n",
      "Post 16 Freestyle royal Drifting Maroc 307091372652912_671049906257055"
     ]
    },
    {
     "name": "stderr",
     "output_type": "stream",
     "text": [
      "WARNING:root:No caption for post 307091372652912_671049906257055\n",
      "WARNING:root:0 comments added (3 already in DB)\n"
     ]
    },
    {
     "name": "stdout",
     "output_type": "stream",
     "text": [
      "\n",
      "Got 20 likes after paging"
     ]
    },
    {
     "name": "stderr",
     "output_type": "stream",
     "text": [
      "WARNING:root:0 likes added (20 already in DB)\n"
     ]
    },
    {
     "name": "stdout",
     "output_type": "stream",
     "text": [
      "\n",
      "Post 17 السلطات الفرنسية تغرم يهوديا رفض تشغيل المغاربة في محله 307091372652912_642736432421736"
     ]
    },
    {
     "name": "stderr",
     "output_type": "stream",
     "text": [
      "WARNING:root:0 comments added (1 already in DB)\n"
     ]
    },
    {
     "name": "stdout",
     "output_type": "stream",
     "text": [
      "\n",
      "Got next page of likes (current) (25 so far)"
     ]
    },
    {
     "name": "stderr",
     "output_type": "stream",
     "text": [
      "WARNING:root:0 likes added (34 already in DB)\n"
     ]
    },
    {
     "name": "stdout",
     "output_type": "stream",
     "text": [
      "\n",
      "Got 34 likes after paging\n",
      "Post 18 None 307091372652912_642604492434930"
     ]
    },
    {
     "name": "stderr",
     "output_type": "stream",
     "text": [
      "WARNING:root:No description for post 307091372652912_642604492434930\n",
      "WARNING:root:No caption for post 307091372652912_642604492434930\n",
      "WARNING:root:0 comments added (40 already in DB)\n"
     ]
    },
    {
     "name": "stdout",
     "output_type": "stream",
     "text": [
      "\n",
      "Got next page of likes (current) (25 so far)\n",
      "Got next page of likes (current) (50 so far)\n",
      "Got next page of likes (current) (75 so far)\n",
      "Got next page of likes (current) (100 so far)"
     ]
    },
    {
     "name": "stderr",
     "output_type": "stream",
     "text": [
      "WARNING:root:0 likes added (109 already in DB)\n"
     ]
    },
    {
     "name": "stdout",
     "output_type": "stream",
     "text": [
      "\n",
      "Got 109 likes after paging\n",
      "Post 19 None 307091372652912_642601905768522"
     ]
    },
    {
     "name": "stderr",
     "output_type": "stream",
     "text": [
      "WARNING:root:No description for post 307091372652912_642601905768522\n",
      "WARNING:root:No caption for post 307091372652912_642601905768522\n",
      "WARNING:root:0 comments added (3 already in DB)\n"
     ]
    },
    {
     "name": "stdout",
     "output_type": "stream",
     "text": [
      "\n",
      "Got next page of likes (current) (25 so far)"
     ]
    },
    {
     "name": "stderr",
     "output_type": "stream",
     "text": [
      "WARNING:root:0 likes added (42 already in DB)\n"
     ]
    },
    {
     "name": "stdout",
     "output_type": "stream",
     "text": [
      "\n",
      "Got 42 likes after paging\n",
      "Post 20 None 307091372652912_642600225768690"
     ]
    },
    {
     "name": "stderr",
     "output_type": "stream",
     "text": [
      "WARNING:root:No description for post 307091372652912_642600225768690\n",
      "WARNING:root:No caption for post 307091372652912_642600225768690\n",
      "WARNING:root:0 comments added (2 already in DB)\n"
     ]
    },
    {
     "name": "stdout",
     "output_type": "stream",
     "text": [
      "\n",
      "Got 22 likes after paging"
     ]
    },
    {
     "name": "stderr",
     "output_type": "stream",
     "text": [
      "WARNING:root:0 likes added (22 already in DB)\n"
     ]
    },
    {
     "name": "stdout",
     "output_type": "stream",
     "text": [
      "\n",
      "Post 21 None 307091372652912_642588135769899"
     ]
    },
    {
     "name": "stderr",
     "output_type": "stream",
     "text": [
      "WARNING:root:No description for post 307091372652912_642588135769899\n",
      "WARNING:root:No caption for post 307091372652912_642588135769899\n",
      "WARNING:root:0 comments added (1 already in DB)\n"
     ]
    },
    {
     "name": "stdout",
     "output_type": "stream",
     "text": [
      "\n",
      "Got 22 likes after paging"
     ]
    },
    {
     "name": "stderr",
     "output_type": "stream",
     "text": [
      "WARNING:root:0 likes added (22 already in DB)\n"
     ]
    },
    {
     "name": "stdout",
     "output_type": "stream",
     "text": [
      "\n",
      "Post 22 None 307091372652912_642128479149198"
     ]
    },
    {
     "name": "stderr",
     "output_type": "stream",
     "text": [
      "WARNING:root:No description for post 307091372652912_642128479149198\n",
      "WARNING:root:No caption for post 307091372652912_642128479149198\n"
     ]
    },
    {
     "name": "stdout",
     "output_type": "stream",
     "text": [
      "\n",
      "Got 18 likes after paging"
     ]
    },
    {
     "name": "stderr",
     "output_type": "stream",
     "text": [
      "WARNING:root:0 likes added (18 already in DB)\n"
     ]
    },
    {
     "name": "stdout",
     "output_type": "stream",
     "text": [
      "\n",
      "Post 23 None 307091372652912_642127705815942"
     ]
    },
    {
     "name": "stderr",
     "output_type": "stream",
     "text": [
      "WARNING:root:No description for post 307091372652912_642127705815942\n",
      "WARNING:root:No caption for post 307091372652912_642127705815942\n"
     ]
    },
    {
     "name": "stdout",
     "output_type": "stream",
     "text": [
      "\n",
      "Got 17 likes after paging"
     ]
    },
    {
     "name": "stderr",
     "output_type": "stream",
     "text": [
      "WARNING:root:0 likes added (17 already in DB)\n"
     ]
    },
    {
     "name": "stdout",
     "output_type": "stream",
     "text": [
      "\n",
      "Post 24 None 307091372652912_642125172482862"
     ]
    },
    {
     "name": "stderr",
     "output_type": "stream",
     "text": [
      "WARNING:root:No description for post 307091372652912_642125172482862\n",
      "WARNING:root:No caption for post 307091372652912_642125172482862\n"
     ]
    },
    {
     "name": "stdout",
     "output_type": "stream",
     "text": [
      "\n",
      "Got 15 likes after paging"
     ]
    },
    {
     "name": "stderr",
     "output_type": "stream",
     "text": [
      "WARNING:root:0 likes added (15 already in DB)\n"
     ]
    },
    {
     "name": "stdout",
     "output_type": "stream",
     "text": [
      "\n",
      "Post 25 None 307091372652912_642116755817037"
     ]
    },
    {
     "name": "stderr",
     "output_type": "stream",
     "text": [
      "WARNING:root:No description for post 307091372652912_642116755817037\n",
      "WARNING:root:No caption for post 307091372652912_642116755817037\n",
      "WARNING:root:0 comments added (53 already in DB)\n"
     ]
    },
    {
     "name": "stdout",
     "output_type": "stream",
     "text": [
      "\n",
      "Got next page of likes (current) (25 so far)\n",
      "Got next page of likes (current) (50 so far)\n",
      "Got next page of likes (current) (75 so far)"
     ]
    },
    {
     "name": "stderr",
     "output_type": "stream",
     "text": [
      "WARNING:root:0 likes added (98 already in DB)\n"
     ]
    },
    {
     "name": "stdout",
     "output_type": "stream",
     "text": [
      "\n",
      "Got 98 likes after paging\n",
      "Post 26 None 307091372652912_497370936958287"
     ]
    },
    {
     "name": "stderr",
     "output_type": "stream",
     "text": [
      "WARNING:root:No description for post 307091372652912_497370936958287\n",
      "WARNING:root:No caption for post 307091372652912_497370936958287\n",
      "WARNING:root:0 comments added (3 already in DB)\n"
     ]
    },
    {
     "name": "stdout",
     "output_type": "stream",
     "text": [
      "\n",
      "Got 2 likes after paging"
     ]
    },
    {
     "name": "stderr",
     "output_type": "stream",
     "text": [
      "WARNING:root:0 likes added (2 already in DB)\n"
     ]
    },
    {
     "name": "stdout",
     "output_type": "stream",
     "text": [
      "\n",
      "Post 27 None 307091372652912_497362880292426"
     ]
    },
    {
     "name": "stderr",
     "output_type": "stream",
     "text": [
      "WARNING:root:No description for post 307091372652912_497362880292426\n",
      "WARNING:root:No caption for post 307091372652912_497362880292426\n",
      "WARNING:root:0 comments added (2 already in DB)\n"
     ]
    },
    {
     "name": "stdout",
     "output_type": "stream",
     "text": [
      "\n",
      "Got 10 likes after paging"
     ]
    },
    {
     "name": "stderr",
     "output_type": "stream",
     "text": [
      "WARNING:root:0 likes added (10 already in DB)\n"
     ]
    },
    {
     "name": "stdout",
     "output_type": "stream",
     "text": [
      "\n",
      "Post 28 None 307091372652912_495232237172157"
     ]
    },
    {
     "name": "stderr",
     "output_type": "stream",
     "text": [
      "WARNING:root:No description for post 307091372652912_495232237172157\n",
      "WARNING:root:No caption for post 307091372652912_495232237172157\n",
      "WARNING:root:0 comments added (5 already in DB)\n"
     ]
    },
    {
     "name": "stdout",
     "output_type": "stream",
     "text": [
      "\n",
      "Got 9 likes after paging"
     ]
    },
    {
     "name": "stderr",
     "output_type": "stream",
     "text": [
      "WARNING:root:0 likes added (9 already in DB)\n"
     ]
    },
    {
     "name": "stdout",
     "output_type": "stream",
     "text": [
      "\n",
      "Post 29 None 307091372652912_495231273838920"
     ]
    },
    {
     "name": "stderr",
     "output_type": "stream",
     "text": [
      "WARNING:root:No description for post 307091372652912_495231273838920\n",
      "WARNING:root:No caption for post 307091372652912_495231273838920\n",
      "WARNING:root:0 comments added (2 already in DB)\n"
     ]
    },
    {
     "name": "stdout",
     "output_type": "stream",
     "text": [
      "\n",
      "Got 7 likes after paging"
     ]
    },
    {
     "name": "stderr",
     "output_type": "stream",
     "text": [
      "WARNING:root:0 likes added (7 already in DB)\n"
     ]
    },
    {
     "name": "stdout",
     "output_type": "stream",
     "text": [
      "\n",
      "Post 30 None 307091372652912_495230630505651"
     ]
    },
    {
     "name": "stderr",
     "output_type": "stream",
     "text": [
      "WARNING:root:No description for post 307091372652912_495230630505651\n",
      "WARNING:root:No caption for post 307091372652912_495230630505651\n",
      "WARNING:root:0 comments added (2 already in DB)\n"
     ]
    },
    {
     "name": "stdout",
     "output_type": "stream",
     "text": [
      "\n",
      "Got 2 likes after paging"
     ]
    },
    {
     "name": "stderr",
     "output_type": "stream",
     "text": [
      "WARNING:root:0 likes added (2 already in DB)\n"
     ]
    },
    {
     "name": "stdout",
     "output_type": "stream",
     "text": [
      "\n",
      "Post 31 None 307091372652912_495230050505709"
     ]
    },
    {
     "name": "stderr",
     "output_type": "stream",
     "text": [
      "WARNING:root:No description for post 307091372652912_495230050505709\n",
      "WARNING:root:No caption for post 307091372652912_495230050505709\n"
     ]
    },
    {
     "name": "stdout",
     "output_type": "stream",
     "text": [
      "\n",
      "Post 32 None 307091372652912_495229080505806"
     ]
    },
    {
     "name": "stderr",
     "output_type": "stream",
     "text": [
      "WARNING:root:No description for post 307091372652912_495229080505806\n",
      "WARNING:root:No caption for post 307091372652912_495229080505806\n"
     ]
    },
    {
     "name": "stdout",
     "output_type": "stream",
     "text": [
      "\n",
      "Got 1 likes after paging"
     ]
    },
    {
     "name": "stderr",
     "output_type": "stream",
     "text": [
      "WARNING:root:0 likes added (1 already in DB)\n"
     ]
    },
    {
     "name": "stdout",
     "output_type": "stream",
     "text": [
      "\n",
      "Post 33 None 307091372652912_495228327172548"
     ]
    },
    {
     "name": "stderr",
     "output_type": "stream",
     "text": [
      "WARNING:root:No description for post 307091372652912_495228327172548\n",
      "WARNING:root:No caption for post 307091372652912_495228327172548\n"
     ]
    },
    {
     "name": "stdout",
     "output_type": "stream",
     "text": [
      "\n",
      "Got 1 likes after paging"
     ]
    },
    {
     "name": "stderr",
     "output_type": "stream",
     "text": [
      "WARNING:root:0 likes added (1 already in DB)\n"
     ]
    },
    {
     "name": "stdout",
     "output_type": "stream",
     "text": [
      "\n",
      "Post 34 None 307091372652912_495227800505934"
     ]
    },
    {
     "name": "stderr",
     "output_type": "stream",
     "text": [
      "WARNING:root:No description for post 307091372652912_495227800505934\n",
      "WARNING:root:No caption for post 307091372652912_495227800505934\n"
     ]
    },
    {
     "name": "stdout",
     "output_type": "stream",
     "text": [
      "\n",
      "Got 1 likes after paging"
     ]
    },
    {
     "name": "stderr",
     "output_type": "stream",
     "text": [
      "WARNING:root:0 likes added (1 already in DB)\n"
     ]
    },
    {
     "name": "stdout",
     "output_type": "stream",
     "text": [
      "\n",
      "Post 35 None 307091372652912_495227287172652"
     ]
    },
    {
     "name": "stderr",
     "output_type": "stream",
     "text": [
      "WARNING:root:No description for post 307091372652912_495227287172652\n",
      "WARNING:root:No caption for post 307091372652912_495227287172652\n"
     ]
    },
    {
     "name": "stdout",
     "output_type": "stream",
     "text": [
      "\n",
      "Got 4 likes after paging"
     ]
    },
    {
     "name": "stderr",
     "output_type": "stream",
     "text": [
      "WARNING:root:0 likes added (4 already in DB)\n"
     ]
    },
    {
     "name": "stdout",
     "output_type": "stream",
     "text": [
      "\n",
      "Post 36 None 307091372652912_495225437172837"
     ]
    },
    {
     "name": "stderr",
     "output_type": "stream",
     "text": [
      "WARNING:root:No description for post 307091372652912_495225437172837\n",
      "WARNING:root:No caption for post 307091372652912_495225437172837\n",
      "WARNING:root:0 comments added (1 already in DB)\n"
     ]
    },
    {
     "name": "stdout",
     "output_type": "stream",
     "text": [
      "\n",
      "Got 1 likes after paging"
     ]
    },
    {
     "name": "stderr",
     "output_type": "stream",
     "text": [
      "WARNING:root:0 likes added (1 already in DB)\n"
     ]
    },
    {
     "name": "stdout",
     "output_type": "stream",
     "text": [
      "\n",
      "Post 37 Al Italiya 307091372652912_515323645148580\n",
      "Got 1 likes after paging"
     ]
    },
    {
     "name": "stderr",
     "output_type": "stream",
     "text": [
      "WARNING:root:0 likes added (1 already in DB)\n"
     ]
    },
    {
     "name": "stdout",
     "output_type": "stream",
     "text": [
      "\n",
      "Post 38 None 307091372652912_493654217329959"
     ]
    },
    {
     "name": "stderr",
     "output_type": "stream",
     "text": [
      "WARNING:root:No description for post 307091372652912_493654217329959\n",
      "WARNING:root:No caption for post 307091372652912_493654217329959\n",
      "WARNING:root:0 comments added (1 already in DB)\n"
     ]
    },
    {
     "name": "stdout",
     "output_type": "stream",
     "text": [
      "\n",
      "Post 39 None 307091372652912_493652903996757"
     ]
    },
    {
     "name": "stderr",
     "output_type": "stream",
     "text": [
      "WARNING:root:No description for post 307091372652912_493652903996757\n",
      "WARNING:root:No caption for post 307091372652912_493652903996757\n"
     ]
    },
    {
     "name": "stdout",
     "output_type": "stream",
     "text": [
      "\n",
      "Got 2 likes after paging"
     ]
    },
    {
     "name": "stderr",
     "output_type": "stream",
     "text": [
      "WARNING:root:0 likes added (2 already in DB)\n"
     ]
    },
    {
     "name": "stdout",
     "output_type": "stream",
     "text": [
      "\n",
      "Post 40 None 307091372652912_492949837400397"
     ]
    },
    {
     "name": "stderr",
     "output_type": "stream",
     "text": [
      "WARNING:root:No description for post 307091372652912_492949837400397\n",
      "WARNING:root:No caption for post 307091372652912_492949837400397\n",
      "WARNING:root:0 comments added (10 already in DB)\n"
     ]
    },
    {
     "name": "stdout",
     "output_type": "stream",
     "text": [
      "\n",
      "Got 16 likes after paging"
     ]
    },
    {
     "name": "stderr",
     "output_type": "stream",
     "text": [
      "WARNING:root:0 likes added (16 already in DB)\n"
     ]
    },
    {
     "name": "stdout",
     "output_type": "stream",
     "text": [
      "\n",
      "Post 41 None 307091372652912_492948637400517"
     ]
    },
    {
     "name": "stderr",
     "output_type": "stream",
     "text": [
      "WARNING:root:No description for post 307091372652912_492948637400517\n",
      "WARNING:root:No caption for post 307091372652912_492948637400517\n"
     ]
    },
    {
     "name": "stdout",
     "output_type": "stream",
     "text": [
      "\n",
      "Post 42 Timeline Photos 307091372652912_492945297400851"
     ]
    },
    {
     "name": "stderr",
     "output_type": "stream",
     "text": [
      "WARNING:root:No description for post 307091372652912_492945297400851\n",
      "WARNING:root:No caption for post 307091372652912_492945297400851\n",
      "WARNING:root:0 comments added (6 already in DB)\n"
     ]
    },
    {
     "name": "stdout",
     "output_type": "stream",
     "text": [
      "\n",
      "Got next page of likes (current) (25 so far)"
     ]
    },
    {
     "name": "stderr",
     "output_type": "stream",
     "text": [
      "WARNING:root:0 likes added (28 already in DB)\n"
     ]
    },
    {
     "name": "stdout",
     "output_type": "stream",
     "text": [
      "\n",
      "Got 28 likes after paging\n",
      "Post 43 None 307091372652912_492944230734291"
     ]
    },
    {
     "name": "stderr",
     "output_type": "stream",
     "text": [
      "WARNING:root:No description for post 307091372652912_492944230734291\n",
      "WARNING:root:No caption for post 307091372652912_492944230734291\n"
     ]
    },
    {
     "name": "stdout",
     "output_type": "stream",
     "text": [
      "\n",
      "Got 2 likes after paging"
     ]
    },
    {
     "name": "stderr",
     "output_type": "stream",
     "text": [
      "WARNING:root:0 likes added (2 already in DB)\n"
     ]
    },
    {
     "name": "stdout",
     "output_type": "stream",
     "text": [
      "\n",
      "Post 44 None 307091372652912_492943814067666"
     ]
    },
    {
     "name": "stderr",
     "output_type": "stream",
     "text": [
      "WARNING:root:No description for post 307091372652912_492943814067666\n",
      "WARNING:root:No caption for post 307091372652912_492943814067666\n",
      "WARNING:root:0 comments added (4 already in DB)\n"
     ]
    },
    {
     "name": "stdout",
     "output_type": "stream",
     "text": [
      "\n",
      "Got 6 likes after paging"
     ]
    },
    {
     "name": "stderr",
     "output_type": "stream",
     "text": [
      "WARNING:root:0 likes added (6 already in DB)\n"
     ]
    },
    {
     "name": "stdout",
     "output_type": "stream",
     "text": [
      "\n",
      "Post 45 None 307091372652912_492943544067693"
     ]
    },
    {
     "name": "stderr",
     "output_type": "stream",
     "text": [
      "WARNING:root:No description for post 307091372652912_492943544067693\n",
      "WARNING:root:No caption for post 307091372652912_492943544067693\n"
     ]
    },
    {
     "name": "stdout",
     "output_type": "stream",
     "text": [
      "\n",
      "Got 7 likes after paging"
     ]
    },
    {
     "name": "stderr",
     "output_type": "stream",
     "text": [
      "WARNING:root:0 likes added (7 already in DB)\n"
     ]
    },
    {
     "name": "stdout",
     "output_type": "stream",
     "text": [
      "\n",
      "Post 46 None 307091372652912_492943230734391"
     ]
    },
    {
     "name": "stderr",
     "output_type": "stream",
     "text": [
      "WARNING:root:No description for post 307091372652912_492943230734391\n",
      "WARNING:root:No caption for post 307091372652912_492943230734391\n"
     ]
    },
    {
     "name": "stdout",
     "output_type": "stream",
     "text": [
      "\n",
      "Got 8 likes after paging"
     ]
    },
    {
     "name": "stderr",
     "output_type": "stream",
     "text": [
      "WARNING:root:0 likes added (8 already in DB)\n"
     ]
    },
    {
     "name": "stdout",
     "output_type": "stream",
     "text": [
      "\n",
      "Post 47 http://img.youm7.com/images/NewsPics/large/s8201218214536.jpg 307091372652912_276265985811305"
     ]
    },
    {
     "name": "stderr",
     "output_type": "stream",
     "text": [
      "WARNING:root:No description for post 307091372652912_276265985811305\n"
     ]
    },
    {
     "name": "stdout",
     "output_type": "stream",
     "text": [
      "\n",
      "Got 4 likes after paging"
     ]
    },
    {
     "name": "stderr",
     "output_type": "stream",
     "text": [
      "WARNING:root:0 likes added (4 already in DB)\n"
     ]
    },
    {
     "name": "stdout",
     "output_type": "stream",
     "text": [
      "\n",
      "Post 48 None 307091372652912_491315274230520"
     ]
    },
    {
     "name": "stderr",
     "output_type": "stream",
     "text": [
      "WARNING:root:No description for post 307091372652912_491315274230520\n",
      "WARNING:root:No caption for post 307091372652912_491315274230520\n"
     ]
    },
    {
     "name": "stdout",
     "output_type": "stream",
     "text": [
      "\n",
      "Got 4 likes after paging"
     ]
    },
    {
     "name": "stderr",
     "output_type": "stream",
     "text": [
      "WARNING:root:0 likes added (4 already in DB)\n"
     ]
    },
    {
     "name": "stdout",
     "output_type": "stream",
     "text": [
      "\n",
      "Post 49 http://a5.sphotos.ak.fbcdn.net/hphotos-ak-ash3/539285_463421240355781_1706079713_n.jpg 307091372652912_396028703797944"
     ]
    },
    {
     "name": "stderr",
     "output_type": "stream",
     "text": [
      "WARNING:root:No description for post 307091372652912_396028703797944\n"
     ]
    },
    {
     "name": "stdout",
     "output_type": "stream",
     "text": [
      "\n",
      "Got 1 likes after paging"
     ]
    },
    {
     "name": "stderr",
     "output_type": "stream",
     "text": [
      "WARNING:root:0 likes added (1 already in DB)\n"
     ]
    },
    {
     "name": "stdout",
     "output_type": "stream",
     "text": [
      "\n",
      "Post 50 http://www.elakhbaronline.com/dz/media/k2/items/cache/1b9499731f0cfbb7e7f5f5b826330424_XL.jpg?t=-621 307091372652912_426165610768174"
     ]
    },
    {
     "name": "stderr",
     "output_type": "stream",
     "text": [
      "WARNING:root:No description for post 307091372652912_426165610768174\n",
      "WARNING:root:0 comments added (2 already in DB)\n"
     ]
    },
    {
     "name": "stdout",
     "output_type": "stream",
     "text": [
      "\n",
      "Got 2 likes after paging"
     ]
    },
    {
     "name": "stderr",
     "output_type": "stream",
     "text": [
      "WARNING:root:0 likes added (2 already in DB)\n"
     ]
    },
    {
     "name": "stdout",
     "output_type": "stream",
     "text": [
      "\n",
      "Post 51 None 307091372652912_490485894313458"
     ]
    },
    {
     "name": "stderr",
     "output_type": "stream",
     "text": [
      "WARNING:root:No description for post 307091372652912_490485894313458\n",
      "WARNING:root:No caption for post 307091372652912_490485894313458\n"
     ]
    },
    {
     "name": "stdout",
     "output_type": "stream",
     "text": [
      "\n",
      "Got 3 likes after paging"
     ]
    },
    {
     "name": "stderr",
     "output_type": "stream",
     "text": [
      "WARNING:root:0 likes added (3 already in DB)\n"
     ]
    },
    {
     "name": "stdout",
     "output_type": "stream",
     "text": [
      "\n",
      "Post 52 http://www.rnw.nl/data/files/imagecache/must_carry/images/lead/article/2012/08/anti-muslim-650.jpg 307091372652912_480552175297767"
     ]
    },
    {
     "name": "stderr",
     "output_type": "stream",
     "text": [
      "WARNING:root:No description for post 307091372652912_480552175297767\n",
      "WARNING:root:0 comments added (1 already in DB)\n"
     ]
    },
    {
     "name": "stdout",
     "output_type": "stream",
     "text": [
      "\n",
      "Got 2 likes after paging"
     ]
    },
    {
     "name": "stderr",
     "output_type": "stream",
     "text": [
      "WARNING:root:0 likes added (2 already in DB)\n"
     ]
    },
    {
     "name": "stdout",
     "output_type": "stream",
     "text": [
      "\n",
      "Post 53 None 307091372652912_490069167688464"
     ]
    },
    {
     "name": "stderr",
     "output_type": "stream",
     "text": [
      "WARNING:root:No description for post 307091372652912_490069167688464\n",
      "WARNING:root:No caption for post 307091372652912_490069167688464\n",
      "WARNING:root:0 comments added (3 already in DB)\n"
     ]
    },
    {
     "name": "stdout",
     "output_type": "stream",
     "text": [
      "\n",
      "Got 6 likes after paging"
     ]
    },
    {
     "name": "stderr",
     "output_type": "stream",
     "text": [
      "WARNING:root:0 likes added (6 already in DB)\n"
     ]
    },
    {
     "name": "stdout",
     "output_type": "stream",
     "text": [
      "\n",
      "Post 54 None 307091372652912_490067311021983"
     ]
    },
    {
     "name": "stderr",
     "output_type": "stream",
     "text": [
      "WARNING:root:No description for post 307091372652912_490067311021983\n",
      "WARNING:root:No caption for post 307091372652912_490067311021983\n"
     ]
    },
    {
     "name": "stdout",
     "output_type": "stream",
     "text": [
      "\n",
      "Got 8 likes after paging"
     ]
    },
    {
     "name": "stderr",
     "output_type": "stream",
     "text": [
      "WARNING:root:0 likes added (8 already in DB)\n"
     ]
    },
    {
     "name": "stdout",
     "output_type": "stream",
     "text": [
      "\n",
      "Post 55 None 307091372652912_490065707688810"
     ]
    },
    {
     "name": "stderr",
     "output_type": "stream",
     "text": [
      "WARNING:root:No description for post 307091372652912_490065707688810\n",
      "WARNING:root:No caption for post 307091372652912_490065707688810\n",
      "WARNING:root:0 comments added (1 already in DB)\n"
     ]
    },
    {
     "name": "stdout",
     "output_type": "stream",
     "text": [
      "\n",
      "Got 5 likes after paging"
     ]
    },
    {
     "name": "stderr",
     "output_type": "stream",
     "text": [
      "WARNING:root:0 likes added (5 already in DB)\n"
     ]
    },
    {
     "name": "stdout",
     "output_type": "stream",
     "text": [
      "\n",
      "Post 56 None 307091372652912_490057364356311"
     ]
    },
    {
     "name": "stderr",
     "output_type": "stream",
     "text": [
      "WARNING:root:No description for post 307091372652912_490057364356311\n",
      "WARNING:root:No caption for post 307091372652912_490057364356311\n"
     ]
    },
    {
     "name": "stdout",
     "output_type": "stream",
     "text": [
      "\n",
      "Got 5 likes after paging"
     ]
    },
    {
     "name": "stderr",
     "output_type": "stream",
     "text": [
      "WARNING:root:0 likes added (5 already in DB)\n"
     ]
    },
    {
     "name": "stdout",
     "output_type": "stream",
     "text": [
      "\n",
      "Post 57 None 307091372652912_489730067722374"
     ]
    },
    {
     "name": "stderr",
     "output_type": "stream",
     "text": [
      "WARNING:root:No description for post 307091372652912_489730067722374\n",
      "WARNING:root:No caption for post 307091372652912_489730067722374\n",
      "WARNING:root:0 comments added (5 already in DB)\n"
     ]
    },
    {
     "name": "stdout",
     "output_type": "stream",
     "text": [
      "\n",
      "Got 2 likes after paging"
     ]
    },
    {
     "name": "stderr",
     "output_type": "stream",
     "text": [
      "WARNING:root:0 likes added (2 already in DB)\n"
     ]
    },
    {
     "name": "stdout",
     "output_type": "stream",
     "text": [
      "\n",
      "Post 58 None 307091372652912_489729277722453"
     ]
    },
    {
     "name": "stderr",
     "output_type": "stream",
     "text": [
      "WARNING:root:No description for post 307091372652912_489729277722453\n",
      "WARNING:root:No caption for post 307091372652912_489729277722453\n",
      "WARNING:root:0 comments added (1 already in DB)\n"
     ]
    },
    {
     "name": "stdout",
     "output_type": "stream",
     "text": [
      "\n",
      "Got 1 likes after paging"
     ]
    },
    {
     "name": "stderr",
     "output_type": "stream",
     "text": [
      "WARNING:root:0 likes added (1 already in DB)\n"
     ]
    },
    {
     "name": "stdout",
     "output_type": "stream",
     "text": [
      "\n",
      "Post 59 http://a6.sphotos.ak.fbcdn.net/hphotos-ak-ash4/314775_10150267705766875_206386401874_7898754_1930340 307091372652912_409966005707320"
     ]
    },
    {
     "name": "stderr",
     "output_type": "stream",
     "text": [
      "WARNING:root:No description for post 307091372652912_409966005707320\n"
     ]
    },
    {
     "name": "stdout",
     "output_type": "stream",
     "text": [
      "\n",
      "Got 8 likes after paging"
     ]
    },
    {
     "name": "stderr",
     "output_type": "stream",
     "text": [
      "WARNING:root:0 likes added (8 already in DB)\n"
     ]
    },
    {
     "name": "stdout",
     "output_type": "stream",
     "text": [
      "\n",
      "Post 60 None 307091372652912_488278541200860"
     ]
    },
    {
     "name": "stderr",
     "output_type": "stream",
     "text": [
      "WARNING:root:No description for post 307091372652912_488278541200860\n",
      "WARNING:root:No caption for post 307091372652912_488278541200860\n"
     ]
    },
    {
     "name": "stdout",
     "output_type": "stream",
     "text": [
      "\n",
      "Got 1 likes after paging"
     ]
    },
    {
     "name": "stderr",
     "output_type": "stream",
     "text": [
      "WARNING:root:0 likes added (1 already in DB)\n"
     ]
    },
    {
     "name": "stdout",
     "output_type": "stream",
     "text": [
      "\n",
      "Post 61 إيطاليا: ثورة في \"بريشا\" اعتراضًا على المركز الإسلامي - المسلمون في إيطاليا - موقع المسلمون في العال 307091372652912_258970777553307\n",
      "Got 1 likes after paging"
     ]
    },
    {
     "name": "stderr",
     "output_type": "stream",
     "text": [
      "WARNING:root:0 likes added (1 already in DB)\n"
     ]
    },
    {
     "name": "stdout",
     "output_type": "stream",
     "text": [
      "\n",
      "Post 62 None 307091372652912_487894304572617"
     ]
    },
    {
     "name": "stderr",
     "output_type": "stream",
     "text": [
      "WARNING:root:No description for post 307091372652912_487894304572617\n",
      "WARNING:root:No caption for post 307091372652912_487894304572617\n",
      "WARNING:root:0 comments added (3 already in DB)\n"
     ]
    },
    {
     "name": "stdout",
     "output_type": "stream",
     "text": [
      "\n",
      "Got 4 likes after paging"
     ]
    },
    {
     "name": "stderr",
     "output_type": "stream",
     "text": [
      "WARNING:root:0 likes added (4 already in DB)\n"
     ]
    },
    {
     "name": "stdout",
     "output_type": "stream",
     "text": [
      "\n",
      "Post 63 None 307091372652912_487893004572747"
     ]
    },
    {
     "name": "stderr",
     "output_type": "stream",
     "text": [
      "WARNING:root:No description for post 307091372652912_487893004572747\n",
      "WARNING:root:No caption for post 307091372652912_487893004572747\n",
      "WARNING:root:0 comments added (1 already in DB)\n"
     ]
    },
    {
     "name": "stdout",
     "output_type": "stream",
     "text": [
      "\n",
      "Got 3 likes after paging"
     ]
    },
    {
     "name": "stderr",
     "output_type": "stream",
     "text": [
      "WARNING:root:0 likes added (3 already in DB)\n"
     ]
    },
    {
     "name": "stdout",
     "output_type": "stream",
     "text": [
      "\n",
      "Post 64 None 307091372652912_487891384572909"
     ]
    },
    {
     "name": "stderr",
     "output_type": "stream",
     "text": [
      "WARNING:root:No description for post 307091372652912_487891384572909\n",
      "WARNING:root:No caption for post 307091372652912_487891384572909\n"
     ]
    },
    {
     "name": "stdout",
     "output_type": "stream",
     "text": [
      "\n",
      "Got 3 likes after paging"
     ]
    },
    {
     "name": "stderr",
     "output_type": "stream",
     "text": [
      "WARNING:root:0 likes added (3 already in DB)\n"
     ]
    },
    {
     "name": "stdout",
     "output_type": "stream",
     "text": [
      "\n",
      "Post 65 None 307091372652912_487065141322200"
     ]
    },
    {
     "name": "stderr",
     "output_type": "stream",
     "text": [
      "WARNING:root:No description for post 307091372652912_487065141322200\n",
      "WARNING:root:No caption for post 307091372652912_487065141322200\n"
     ]
    },
    {
     "name": "stdout",
     "output_type": "stream",
     "text": [
      "\n",
      "Post 66 Harraga : Espagne la fin des soins gratuits pour les clandestins أسبانيا 307091372652912_271812176257115\n",
      "Post 67 None 307091372652912_486957291332985"
     ]
    },
    {
     "name": "stderr",
     "output_type": "stream",
     "text": [
      "WARNING:root:No description for post 307091372652912_486957291332985\n",
      "WARNING:root:No caption for post 307091372652912_486957291332985\n"
     ]
    },
    {
     "name": "stdout",
     "output_type": "stream",
     "text": [
      "\n",
      "Got 1 likes after paging"
     ]
    },
    {
     "name": "stderr",
     "output_type": "stream",
     "text": [
      "WARNING:root:0 likes added (1 already in DB)\n"
     ]
    },
    {
     "name": "stdout",
     "output_type": "stream",
     "text": [
      "\n",
      "Post 68 None 307091372652912_486956944666353"
     ]
    },
    {
     "name": "stderr",
     "output_type": "stream",
     "text": [
      "WARNING:root:No description for post 307091372652912_486956944666353\n",
      "WARNING:root:No caption for post 307091372652912_486956944666353\n"
     ]
    },
    {
     "name": "stdout",
     "output_type": "stream",
     "text": [
      "\n",
      "Got 1 likes after paging"
     ]
    },
    {
     "name": "stderr",
     "output_type": "stream",
     "text": [
      "WARNING:root:0 likes added (1 already in DB)\n"
     ]
    },
    {
     "name": "stdout",
     "output_type": "stream",
     "text": [
      "\n",
      "Post 69 None 307091372652912_486956641333050"
     ]
    },
    {
     "name": "stderr",
     "output_type": "stream",
     "text": [
      "WARNING:root:No description for post 307091372652912_486956641333050\n",
      "WARNING:root:No caption for post 307091372652912_486956641333050\n"
     ]
    },
    {
     "name": "stdout",
     "output_type": "stream",
     "text": [
      "\n",
      "Got 1 likes after paging"
     ]
    },
    {
     "name": "stderr",
     "output_type": "stream",
     "text": [
      "WARNING:root:0 likes added (1 already in DB)\n"
     ]
    },
    {
     "name": "stdout",
     "output_type": "stream",
     "text": [
      "\n",
      "Post 70 None 307091372652912_486956124666435"
     ]
    },
    {
     "name": "stderr",
     "output_type": "stream",
     "text": [
      "WARNING:root:No description for post 307091372652912_486956124666435\n",
      "WARNING:root:No caption for post 307091372652912_486956124666435\n"
     ]
    },
    {
     "name": "stdout",
     "output_type": "stream",
     "text": [
      "\n",
      "Got 1 likes after paging"
     ]
    },
    {
     "name": "stderr",
     "output_type": "stream",
     "text": [
      "WARNING:root:0 likes added (1 already in DB)\n"
     ]
    },
    {
     "name": "stdout",
     "output_type": "stream",
     "text": [
      "\n",
      "Post 71 None 307091372652912_486580878037293"
     ]
    },
    {
     "name": "stderr",
     "output_type": "stream",
     "text": [
      "WARNING:root:No description for post 307091372652912_486580878037293\n",
      "WARNING:root:No caption for post 307091372652912_486580878037293\n"
     ]
    },
    {
     "name": "stdout",
     "output_type": "stream",
     "text": [
      "\n",
      "Got 1 likes after paging"
     ]
    },
    {
     "name": "stderr",
     "output_type": "stream",
     "text": [
      "WARNING:root:0 likes added (1 already in DB)\n"
     ]
    },
    {
     "name": "stdout",
     "output_type": "stream",
     "text": [
      "\n",
      "Post 72 None 307091372652912_486580391370675"
     ]
    },
    {
     "name": "stderr",
     "output_type": "stream",
     "text": [
      "WARNING:root:No description for post 307091372652912_486580391370675\n",
      "WARNING:root:No caption for post 307091372652912_486580391370675\n"
     ]
    },
    {
     "name": "stdout",
     "output_type": "stream",
     "text": [
      "\n",
      "Post 73 None 307091372652912_486580118037369"
     ]
    },
    {
     "name": "stderr",
     "output_type": "stream",
     "text": [
      "WARNING:root:No description for post 307091372652912_486580118037369\n",
      "WARNING:root:No caption for post 307091372652912_486580118037369\n"
     ]
    },
    {
     "name": "stdout",
     "output_type": "stream",
     "text": [
      "\n",
      "Got 1 likes after paging"
     ]
    },
    {
     "name": "stderr",
     "output_type": "stream",
     "text": [
      "WARNING:root:0 likes added (1 already in DB)\n"
     ]
    },
    {
     "name": "stdout",
     "output_type": "stream",
     "text": [
      "\n",
      "Post 74 None 307091372652912_486578584704189"
     ]
    },
    {
     "name": "stderr",
     "output_type": "stream",
     "text": [
      "WARNING:root:No description for post 307091372652912_486578584704189\n",
      "WARNING:root:No caption for post 307091372652912_486578584704189\n",
      "WARNING:root:0 comments added (1 already in DB)\n"
     ]
    },
    {
     "name": "stdout",
     "output_type": "stream",
     "text": [
      "\n",
      "Got 3 likes after paging"
     ]
    },
    {
     "name": "stderr",
     "output_type": "stream",
     "text": [
      "WARNING:root:0 likes added (3 already in DB)\n"
     ]
    },
    {
     "name": "stdout",
     "output_type": "stream",
     "text": [
      "\n",
      "Post 75 None 307091372652912_486577358037645"
     ]
    },
    {
     "name": "stderr",
     "output_type": "stream",
     "text": [
      "WARNING:root:No description for post 307091372652912_486577358037645\n",
      "WARNING:root:No caption for post 307091372652912_486577358037645\n"
     ]
    },
    {
     "name": "stdout",
     "output_type": "stream",
     "text": [
      "\n",
      "Post 76 None 307091372652912_486577028037678"
     ]
    },
    {
     "name": "stderr",
     "output_type": "stream",
     "text": [
      "WARNING:root:No description for post 307091372652912_486577028037678\n",
      "WARNING:root:No caption for post 307091372652912_486577028037678\n"
     ]
    },
    {
     "name": "stdout",
     "output_type": "stream",
     "text": [
      "\n",
      "Got 1 likes after paging"
     ]
    },
    {
     "name": "stderr",
     "output_type": "stream",
     "text": [
      "WARNING:root:0 likes added (1 already in DB)\n"
     ]
    },
    {
     "name": "stdout",
     "output_type": "stream",
     "text": [
      "\n",
      "Post 77 None 307091372652912_486576474704400"
     ]
    },
    {
     "name": "stderr",
     "output_type": "stream",
     "text": [
      "WARNING:root:No description for post 307091372652912_486576474704400\n",
      "WARNING:root:No caption for post 307091372652912_486576474704400\n"
     ]
    },
    {
     "name": "stdout",
     "output_type": "stream",
     "text": [
      "\n",
      "Got 2 likes after paging"
     ]
    },
    {
     "name": "stderr",
     "output_type": "stream",
     "text": [
      "WARNING:root:0 likes added (2 already in DB)\n"
     ]
    },
    {
     "name": "stdout",
     "output_type": "stream",
     "text": [
      "\n",
      "Post 78 None 307091372652912_486576001371114"
     ]
    },
    {
     "name": "stderr",
     "output_type": "stream",
     "text": [
      "WARNING:root:No description for post 307091372652912_486576001371114\n",
      "WARNING:root:No caption for post 307091372652912_486576001371114\n"
     ]
    },
    {
     "name": "stdout",
     "output_type": "stream",
     "text": [
      "\n",
      "Post 79 None 307091372652912_486178768077504"
     ]
    },
    {
     "name": "stderr",
     "output_type": "stream",
     "text": [
      "WARNING:root:No description for post 307091372652912_486178768077504\n",
      "WARNING:root:No caption for post 307091372652912_486178768077504\n"
     ]
    },
    {
     "name": "stdout",
     "output_type": "stream",
     "text": [
      "\n",
      "Got 4 likes after paging"
     ]
    },
    {
     "name": "stderr",
     "output_type": "stream",
     "text": [
      "WARNING:root:0 likes added (4 already in DB)\n"
     ]
    },
    {
     "name": "stdout",
     "output_type": "stream",
     "text": [
      "\n",
      "Post 80 None 307091372652912_486178484744199"
     ]
    },
    {
     "name": "stderr",
     "output_type": "stream",
     "text": [
      "WARNING:root:No description for post 307091372652912_486178484744199\n",
      "WARNING:root:No caption for post 307091372652912_486178484744199\n"
     ]
    },
    {
     "name": "stdout",
     "output_type": "stream",
     "text": [
      "\n",
      "Got 1 likes after paging"
     ]
    },
    {
     "name": "stderr",
     "output_type": "stream",
     "text": [
      "WARNING:root:0 likes added (1 already in DB)\n"
     ]
    },
    {
     "name": "stdout",
     "output_type": "stream",
     "text": [
      "\n",
      "Post 81 None 307091372652912_486177824744265"
     ]
    },
    {
     "name": "stderr",
     "output_type": "stream",
     "text": [
      "WARNING:root:No description for post 307091372652912_486177824744265\n",
      "WARNING:root:No caption for post 307091372652912_486177824744265\n"
     ]
    },
    {
     "name": "stdout",
     "output_type": "stream",
     "text": [
      "\n",
      "Got 1 likes after paging"
     ]
    },
    {
     "name": "stderr",
     "output_type": "stream",
     "text": [
      "WARNING:root:0 likes added (1 already in DB)\n"
     ]
    },
    {
     "name": "stdout",
     "output_type": "stream",
     "text": [
      "\n",
      "Post 82 None 307091372652912_486177621410952"
     ]
    },
    {
     "name": "stderr",
     "output_type": "stream",
     "text": [
      "WARNING:root:No description for post 307091372652912_486177621410952\n",
      "WARNING:root:No caption for post 307091372652912_486177621410952\n"
     ]
    },
    {
     "name": "stdout",
     "output_type": "stream",
     "text": [
      "\n",
      "Got 3 likes after paging"
     ]
    },
    {
     "name": "stderr",
     "output_type": "stream",
     "text": [
      "WARNING:root:0 likes added (3 already in DB)\n"
     ]
    },
    {
     "name": "stdout",
     "output_type": "stream",
     "text": [
      "\n",
      "Post 83 None 307091372652912_486177328077648"
     ]
    },
    {
     "name": "stderr",
     "output_type": "stream",
     "text": [
      "WARNING:root:No description for post 307091372652912_486177328077648\n",
      "WARNING:root:No caption for post 307091372652912_486177328077648\n"
     ]
    },
    {
     "name": "stdout",
     "output_type": "stream",
     "text": [
      "\n",
      "Got 2 likes after paging"
     ]
    },
    {
     "name": "stderr",
     "output_type": "stream",
     "text": [
      "WARNING:root:0 likes added (2 already in DB)\n"
     ]
    },
    {
     "name": "stdout",
     "output_type": "stream",
     "text": [
      "\n",
      "Post 84 None 307091372652912_486176888077692"
     ]
    },
    {
     "name": "stderr",
     "output_type": "stream",
     "text": [
      "WARNING:root:No description for post 307091372652912_486176888077692\n",
      "WARNING:root:No caption for post 307091372652912_486176888077692\n"
     ]
    },
    {
     "name": "stdout",
     "output_type": "stream",
     "text": [
      "\n",
      "Got 3 likes after paging"
     ]
    },
    {
     "name": "stderr",
     "output_type": "stream",
     "text": [
      "WARNING:root:0 likes added (3 already in DB)\n"
     ]
    },
    {
     "name": "stdout",
     "output_type": "stream",
     "text": [
      "\n",
      "Post 85 None 307091372652912_486171648078216"
     ]
    },
    {
     "name": "stderr",
     "output_type": "stream",
     "text": [
      "WARNING:root:No description for post 307091372652912_486171648078216\n",
      "WARNING:root:No caption for post 307091372652912_486171648078216\n",
      "WARNING:root:0 comments added (1 already in DB)\n"
     ]
    },
    {
     "name": "stdout",
     "output_type": "stream",
     "text": [
      "\n",
      "Got 5 likes after paging"
     ]
    },
    {
     "name": "stderr",
     "output_type": "stream",
     "text": [
      "WARNING:root:0 likes added (5 already in DB)\n"
     ]
    },
    {
     "name": "stdout",
     "output_type": "stream",
     "text": [
      "\n",
      "Post 86 None 307091372652912_480023085359739"
     ]
    },
    {
     "name": "stderr",
     "output_type": "stream",
     "text": [
      "WARNING:root:No description for post 307091372652912_480023085359739\n",
      "WARNING:root:No caption for post 307091372652912_480023085359739\n"
     ]
    },
    {
     "name": "stdout",
     "output_type": "stream",
     "text": [
      "\n",
      "Post 87 None 307091372652912_480022975359750"
     ]
    },
    {
     "name": "stderr",
     "output_type": "stream",
     "text": [
      "WARNING:root:No description for post 307091372652912_480022975359750\n",
      "WARNING:root:No caption for post 307091372652912_480022975359750\n"
     ]
    },
    {
     "name": "stdout",
     "output_type": "stream",
     "text": [
      "\n",
      "Got 1 likes after paging"
     ]
    },
    {
     "name": "stderr",
     "output_type": "stream",
     "text": [
      "WARNING:root:0 likes added (1 already in DB)\n"
     ]
    },
    {
     "name": "stdout",
     "output_type": "stream",
     "text": [
      "\n",
      "Post 88 None 307091372652912_480022708693110"
     ]
    },
    {
     "name": "stderr",
     "output_type": "stream",
     "text": [
      "WARNING:root:No description for post 307091372652912_480022708693110\n",
      "WARNING:root:No caption for post 307091372652912_480022708693110\n"
     ]
    },
    {
     "name": "stdout",
     "output_type": "stream",
     "text": [
      "\n",
      "Post 89 None 307091372652912_480022368693144"
     ]
    },
    {
     "name": "stderr",
     "output_type": "stream",
     "text": [
      "WARNING:root:No description for post 307091372652912_480022368693144\n",
      "WARNING:root:No caption for post 307091372652912_480022368693144\n"
     ]
    },
    {
     "name": "stdout",
     "output_type": "stream",
     "text": [
      "\n",
      "Got 1 likes after paging"
     ]
    },
    {
     "name": "stderr",
     "output_type": "stream",
     "text": [
      "WARNING:root:0 likes added (1 already in DB)\n"
     ]
    },
    {
     "name": "stdout",
     "output_type": "stream",
     "text": [
      "\n",
      "Post 90 http://i.imgur.com/OVwzk.png 307091372652912_426431040728966"
     ]
    },
    {
     "name": "stderr",
     "output_type": "stream",
     "text": [
      "WARNING:root:No description for post 307091372652912_426431040728966\n"
     ]
    },
    {
     "name": "stdout",
     "output_type": "stream",
     "text": [
      "\n",
      "Got 1 likes after paging"
     ]
    },
    {
     "name": "stderr",
     "output_type": "stream",
     "text": [
      "WARNING:root:0 likes added (1 already in DB)\n"
     ]
    },
    {
     "name": "stdout",
     "output_type": "stream",
     "text": [
      "\n",
      "Post 91 None 307091372652912_478802475481800"
     ]
    },
    {
     "name": "stderr",
     "output_type": "stream",
     "text": [
      "WARNING:root:No description for post 307091372652912_478802475481800\n",
      "WARNING:root:No caption for post 307091372652912_478802475481800\n"
     ]
    },
    {
     "name": "stdout",
     "output_type": "stream",
     "text": [
      "\n",
      "Post 92 None 307091372652912_478251742203540"
     ]
    },
    {
     "name": "stderr",
     "output_type": "stream",
     "text": [
      "WARNING:root:No description for post 307091372652912_478251742203540\n",
      "WARNING:root:No caption for post 307091372652912_478251742203540\n",
      "WARNING:root:0 comments added (1 already in DB)\n"
     ]
    },
    {
     "name": "stdout",
     "output_type": "stream",
     "text": [
      "\n",
      "Got 5 likes after paging"
     ]
    },
    {
     "name": "stderr",
     "output_type": "stream",
     "text": [
      "WARNING:root:0 likes added (5 already in DB)\n"
     ]
    },
    {
     "name": "stdout",
     "output_type": "stream",
     "text": [
      "\n",
      "Post 93 None 307091372652912_478247382203976"
     ]
    },
    {
     "name": "stderr",
     "output_type": "stream",
     "text": [
      "WARNING:root:No description for post 307091372652912_478247382203976\n",
      "WARNING:root:No caption for post 307091372652912_478247382203976\n",
      "WARNING:root:0 comments added (2 already in DB)\n"
     ]
    },
    {
     "name": "stdout",
     "output_type": "stream",
     "text": [
      "\n",
      "Got 3 likes after paging"
     ]
    },
    {
     "name": "stderr",
     "output_type": "stream",
     "text": [
      "WARNING:root:0 likes added (3 already in DB)\n"
     ]
    },
    {
     "name": "stdout",
     "output_type": "stream",
     "text": [
      "\n",
      "Post 94 None 307091372652912_478242268871154"
     ]
    },
    {
     "name": "stderr",
     "output_type": "stream",
     "text": [
      "WARNING:root:No description for post 307091372652912_478242268871154\n",
      "WARNING:root:No caption for post 307091372652912_478242268871154\n"
     ]
    },
    {
     "name": "stdout",
     "output_type": "stream",
     "text": [
      "\n",
      "Post 95 None 307091372652912_478242125537835"
     ]
    },
    {
     "name": "stderr",
     "output_type": "stream",
     "text": [
      "WARNING:root:No description for post 307091372652912_478242125537835\n",
      "WARNING:root:No caption for post 307091372652912_478242125537835\n"
     ]
    },
    {
     "name": "stdout",
     "output_type": "stream",
     "text": [
      "\n",
      "Post 96 None 307091372652912_478242008871180"
     ]
    },
    {
     "name": "stderr",
     "output_type": "stream",
     "text": [
      "WARNING:root:No description for post 307091372652912_478242008871180\n",
      "WARNING:root:No caption for post 307091372652912_478242008871180\n"
     ]
    },
    {
     "name": "stdout",
     "output_type": "stream",
     "text": [
      "\n",
      "Post 97 None 307091372652912_478241628871218"
     ]
    },
    {
     "name": "stderr",
     "output_type": "stream",
     "text": [
      "WARNING:root:No description for post 307091372652912_478241628871218\n",
      "WARNING:root:No caption for post 307091372652912_478241628871218\n"
     ]
    },
    {
     "name": "stdout",
     "output_type": "stream",
     "text": [
      "\n",
      "Got 1 likes after paging"
     ]
    },
    {
     "name": "stderr",
     "output_type": "stream",
     "text": [
      "WARNING:root:0 likes added (1 already in DB)\n"
     ]
    },
    {
     "name": "stdout",
     "output_type": "stream",
     "text": [
      "\n",
      "Post 98 None 307091372652912_477848605577187"
     ]
    },
    {
     "name": "stderr",
     "output_type": "stream",
     "text": [
      "WARNING:root:No description for post 307091372652912_477848605577187\n",
      "WARNING:root:No caption for post 307091372652912_477848605577187\n"
     ]
    },
    {
     "name": "stdout",
     "output_type": "stream",
     "text": [
      "\n",
      "Got 2 likes after paging"
     ]
    },
    {
     "name": "stderr",
     "output_type": "stream",
     "text": [
      "WARNING:root:0 likes added (2 already in DB)\n"
     ]
    },
    {
     "name": "stdout",
     "output_type": "stream",
     "text": [
      "\n",
      "Post 99 None 307091372652912_477847558910625"
     ]
    },
    {
     "name": "stderr",
     "output_type": "stream",
     "text": [
      "WARNING:root:No description for post 307091372652912_477847558910625\n",
      "WARNING:root:No caption for post 307091372652912_477847558910625\n"
     ]
    },
    {
     "name": "stdout",
     "output_type": "stream",
     "text": [
      "\n",
      "Got 1 likes after paging"
     ]
    },
    {
     "name": "stderr",
     "output_type": "stream",
     "text": [
      "WARNING:root:0 likes added (1 already in DB)\n"
     ]
    },
    {
     "name": "stdout",
     "output_type": "stream",
     "text": [
      "\n",
      "Post 100 None 307091372652912_477847222243992"
     ]
    },
    {
     "name": "stderr",
     "output_type": "stream",
     "text": [
      "WARNING:root:No description for post 307091372652912_477847222243992\n",
      "WARNING:root:No caption for post 307091372652912_477847222243992\n"
     ]
    },
    {
     "name": "stdout",
     "output_type": "stream",
     "text": [
      "\n",
      "Got 1 likes after paging"
     ]
    },
    {
     "name": "stderr",
     "output_type": "stream",
     "text": [
      "WARNING:root:0 likes added (1 already in DB)\n"
     ]
    },
    {
     "name": "stdout",
     "output_type": "stream",
     "text": [
      "\n",
      "Post 101 None 307091372652912_477846775577370"
     ]
    },
    {
     "name": "stderr",
     "output_type": "stream",
     "text": [
      "WARNING:root:No description for post 307091372652912_477846775577370\n",
      "WARNING:root:No caption for post 307091372652912_477846775577370\n"
     ]
    },
    {
     "name": "stdout",
     "output_type": "stream",
     "text": [
      "\n",
      "Got 1 likes after paging"
     ]
    },
    {
     "name": "stderr",
     "output_type": "stream",
     "text": [
      "WARNING:root:0 likes added (1 already in DB)\n"
     ]
    },
    {
     "name": "stdout",
     "output_type": "stream",
     "text": [
      "\n",
      "Post 102 None 307091372652912_477846548910726"
     ]
    },
    {
     "name": "stderr",
     "output_type": "stream",
     "text": [
      "WARNING:root:No description for post 307091372652912_477846548910726\n",
      "WARNING:root:No caption for post 307091372652912_477846548910726\n"
     ]
    },
    {
     "name": "stdout",
     "output_type": "stream",
     "text": [
      "\n",
      "Post 103 None 307091372652912_477845808910800"
     ]
    },
    {
     "name": "stderr",
     "output_type": "stream",
     "text": [
      "WARNING:root:No description for post 307091372652912_477845808910800\n",
      "WARNING:root:No caption for post 307091372652912_477845808910800\n"
     ]
    },
    {
     "name": "stdout",
     "output_type": "stream",
     "text": [
      "\n",
      "Got 3 likes after paging"
     ]
    },
    {
     "name": "stderr",
     "output_type": "stream",
     "text": [
      "WARNING:root:0 likes added (3 already in DB)\n"
     ]
    },
    {
     "name": "stdout",
     "output_type": "stream",
     "text": [
      "\n",
      "Post 104 Regolarizzazione. Le domande si presentano a settembre 307091372652912_285191288254363"
     ]
    },
    {
     "name": "stderr",
     "output_type": "stream",
     "text": [
      "WARNING:root:0 comments added (3 already in DB)\n"
     ]
    },
    {
     "name": "stdout",
     "output_type": "stream",
     "text": [
      "\n",
      "Got 3 likes after paging"
     ]
    },
    {
     "name": "stderr",
     "output_type": "stream",
     "text": [
      "WARNING:root:0 likes added (3 already in DB)\n"
     ]
    },
    {
     "name": "stdout",
     "output_type": "stream",
     "text": [
      "\n",
      "Post 105 None 307091372652912_477462428949138"
     ]
    },
    {
     "name": "stderr",
     "output_type": "stream",
     "text": [
      "WARNING:root:No description for post 307091372652912_477462428949138\n",
      "WARNING:root:No caption for post 307091372652912_477462428949138\n"
     ]
    },
    {
     "name": "stdout",
     "output_type": "stream",
     "text": [
      "\n",
      "Got 1 likes after paging"
     ]
    },
    {
     "name": "stderr",
     "output_type": "stream",
     "text": [
      "WARNING:root:0 likes added (1 already in DB)\n"
     ]
    },
    {
     "name": "stdout",
     "output_type": "stream",
     "text": [
      "\n",
      "Post 106 None 307091372652912_477462098949171"
     ]
    },
    {
     "name": "stderr",
     "output_type": "stream",
     "text": [
      "WARNING:root:No description for post 307091372652912_477462098949171\n",
      "WARNING:root:No caption for post 307091372652912_477462098949171\n"
     ]
    },
    {
     "name": "stdout",
     "output_type": "stream",
     "text": [
      "\n",
      "Post 107 None 307091372652912_477461468949234"
     ]
    },
    {
     "name": "stderr",
     "output_type": "stream",
     "text": [
      "WARNING:root:No description for post 307091372652912_477461468949234\n",
      "WARNING:root:No caption for post 307091372652912_477461468949234\n"
     ]
    },
    {
     "name": "stdout",
     "output_type": "stream",
     "text": [
      "\n",
      "Got 1 likes after paging"
     ]
    },
    {
     "name": "stderr",
     "output_type": "stream",
     "text": [
      "WARNING:root:0 likes added (1 already in DB)\n"
     ]
    },
    {
     "name": "stdout",
     "output_type": "stream",
     "text": [
      "\n",
      "Post 108 None 307091372652912_477461015615946"
     ]
    },
    {
     "name": "stderr",
     "output_type": "stream",
     "text": [
      "WARNING:root:No description for post 307091372652912_477461015615946\n",
      "WARNING:root:No caption for post 307091372652912_477461015615946\n"
     ]
    },
    {
     "name": "stdout",
     "output_type": "stream",
     "text": [
      "\n",
      "Post 109 None 307091372652912_477460525615995"
     ]
    },
    {
     "name": "stderr",
     "output_type": "stream",
     "text": [
      "WARNING:root:No description for post 307091372652912_477460525615995\n",
      "WARNING:root:No caption for post 307091372652912_477460525615995\n"
     ]
    },
    {
     "name": "stdout",
     "output_type": "stream",
     "text": [
      "\n",
      "Post 110 None 307091372652912_477460105616037"
     ]
    },
    {
     "name": "stderr",
     "output_type": "stream",
     "text": [
      "WARNING:root:No description for post 307091372652912_477460105616037\n",
      "WARNING:root:No caption for post 307091372652912_477460105616037\n"
     ]
    },
    {
     "name": "stdout",
     "output_type": "stream",
     "text": [
      "\n",
      "Post 111 None 307091372652912_477225102306204"
     ]
    },
    {
     "name": "stderr",
     "output_type": "stream",
     "text": [
      "WARNING:root:No description for post 307091372652912_477225102306204\n",
      "WARNING:root:No caption for post 307091372652912_477225102306204\n",
      "WARNING:root:0 comments added (11 already in DB)\n"
     ]
    }
   ],
   "source": [
    "getPages(r.json()['data'],r.json().get('paging'),restart=None)"
   ]
  },
  {
   "cell_type": "code",
   "execution_count": 38,
   "metadata": {
    "collapsed": false
   },
   "outputs": [
    {
     "name": "stdout",
     "output_type": "stream",
     "text": [
      "1145 pages\n",
      "101760 posts\n",
      "208335 comments\n",
      "77796 likes\n"
     ]
    }
   ],
   "source": [
    "countCollections()"
   ]
  },
  {
   "cell_type": "code",
   "execution_count": 39,
   "metadata": {
    "collapsed": false
   },
   "outputs": [],
   "source": [
    "def getPages(data,paging,restart=None):\n",
    "    \n",
    "    if paging:\n",
    "        if paging.get('next'):\n",
    "            logging.warning('Paging needed')\n",
    "    \n",
    "    for n,d in enumerate(data):\n",
    "        \n",
    "        if (restart and d['id']==str(restart)) or (not restart):\n",
    "            # If restart id defined then wait until we find it\n",
    "            # if not add straight in\n",
    "            restart=None\n",
    "        \n",
    "            time.sleep(pageSleepTime)\n",
    "\n",
    "            print n,d['name']\n",
    "\n",
    "            if not langid.classify(d['name'])[0]=='en':\n",
    "                try:\n",
    "                    enName=textblob.TextBlob(d['name']).translate().string\n",
    "                    enName=clean(enName)\n",
    "                    print 'Translates: ',enName\n",
    "                except:\n",
    "                    logging.warning('Translation failed')\n",
    "                    enName=None\n",
    "            else:\n",
    "                enName=None\n",
    "\n",
    "            print 'http://fb.com/'+d['id'],d.get('category')\n",
    "            res=getPageInfo(d['id'],raw=True)\n",
    "\n",
    "            res['name']=clean(d['name'])\n",
    "            res['about']=clean(d.get('about'))\n",
    "            res['description']=clean(d.get('description'))\n",
    "\n",
    "            ######################################################################\n",
    "            posts,comments,likes=getPostsFromPage(d['id'],limit=postsLimit,raw=False)\n",
    "            # Get posts,comments,likes from that page\n",
    "            nAdded=nAlready=0\n",
    "            for post in posts:\n",
    "                if not isPostInDb(post['id']):\n",
    "                    addPostToDb(post)\n",
    "                    nAdded+=1\n",
    "                else:\n",
    "                    #logging.warning('Post %s already in DB' % post['id'])\n",
    "                    nAlready+=1\n",
    "            logging.warning('%d posts added (%d already in DB)' % (nAdded,nAlready))\n",
    "    #        addCommentsToDb(comments)\n",
    "\n",
    "    #        addLikesToDb(likes)\n",
    "            ######################################################################\n",
    "\n",
    "            if enName:\n",
    "                res['name_en']=enName\n",
    "\n",
    "            category=d.get('category')\n",
    "            if category:\n",
    "                res['category']=category\n",
    "\n",
    "            print res.keys()\n",
    "            if not isPageInDb(d['id']):\n",
    "                addPageToDb(res)\n",
    "            else:\n",
    "                logging.info('Page %s already in DB' % d['id'])\n",
    "            addTimestampToPage(d['id'])\n",
    "\n",
    "        else:\n",
    "            logging.warning('Skipping page %s. Waiting for %s to restart' % (d['id'],restart))"
   ]
  },
  {
   "cell_type": "code",
   "execution_count": 40,
   "metadata": {
    "collapsed": false
   },
   "outputs": [],
   "source": [
    "def getPostsFromPage(pageId,raw=False,limit=100):\n",
    "    '''\n",
    "    Requests list of posts, list of comments and \n",
    "    list of likes from a page\n",
    "    Returns a list of JSON objects\n",
    "    or if raw=True, a string description of posts\n",
    "    '''\n",
    "    \n",
    "    logging.info('Getting posts,comments,likes for page %s' % pageId)\n",
    "    \n",
    "    tempUrl='https://graph.facebook.com/%s/posts?&limit=%d&access_token=%s' % (pageId,postsLimit,ACCESSTOKEN)\n",
    "    \n",
    "    out=[]\n",
    "    outFull=[]\n",
    "    \n",
    "    comments=None\n",
    "    likes=None\n",
    "    \n",
    "    r=requests.get(tempUrl)\n",
    "    ######################################################\n",
    "    success=None\n",
    "    nAttempts=0\n",
    "\n",
    "    while not success:\n",
    "        # Keep looping if unsuccessful\n",
    "        r=requests.get(tempUrl)\n",
    "        success,skip=handleResult(r.status_code,r.text)\n",
    "        # Try, find out if successful or should skip\n",
    "\n",
    "        if skip or nAttempts==nSkip:\n",
    "            # If tried nSkip times or if should skip\n",
    "            r={'data':[],'paging':None}\n",
    "            if nAttempts==nSkip:\n",
    "                logging.warning('Skipping posts after %d attempts' % nAttempts)\n",
    "                return ([],[],[])\n",
    "        time.sleep(nWait)\n",
    "        nAttempts+=1\n",
    "    ######################################################\n",
    "    \n",
    "    for n,d in enumerate(r.json()['data']):\n",
    "        \n",
    "        time.sleep(postSleepTime)\n",
    "\n",
    "        \n",
    "        name=d.get('name')\n",
    "        id=d.get('id')\n",
    "        print 'Post %d %s %s' % (n,name,id)\n",
    "        \n",
    "        message=d.get('message')\n",
    "        if message:\n",
    "            message=clean(message)\n",
    "        else:\n",
    "            logging.warning('No message for post %s' % d['id'])\n",
    "        \n",
    "        description=d.get('description')\n",
    "        if description:\n",
    "            description=clean(description)\n",
    "        else:\n",
    "            logging.warning('No description for post %s' % d['id'])\n",
    "        \n",
    "        caption=d.get('caption')\n",
    "        if caption:\n",
    "            caption=clean(caption)\n",
    "        else:\n",
    "            logging.warning('No caption for post %s' % d['id'])\n",
    "        \n",
    "        d['page_id']=pageId\n",
    "        d['retrieved']=time.time()\n",
    "        \n",
    "        if d.get('icon'):del d['icon']\n",
    "        if d.get('picture'):del d['picture']\n",
    "        if d.get('privacy'):del d['privacy']\n",
    "        # Don't need these\n",
    "        \n",
    "        try:\n",
    "            shareCount=d['shares']['count']\n",
    "            d['shares']=shareCount\n",
    "        except:\n",
    "            pass\n",
    "        # Simplify this\n",
    "        \n",
    "        if message:\n",
    "#            print message\n",
    "            out.append(message)\n",
    "            if not langid.classify(message)[0]=='en':\n",
    "                try:\n",
    "                    enMessage=textblob.TextBlob(message).translate().string\n",
    "                    enMessage=clean(enMessage)\n",
    "                    out.append('==>'+enMessage+'---------')\n",
    "                    d['en_message']=enMessage\n",
    "                except:\n",
    "                    logging.warning('Translation failed')\n",
    "                    enMessage=None\n",
    "        if description:\n",
    "            out.append(description)\n",
    "            if not langid.classify(description)[0]=='en':\n",
    "                try:\n",
    "                    enDescription=textblob.TextBlob(description).translate().string\n",
    "                    enDescription=clean(enDescription)\n",
    "                    out.append('==>'+enDescription+'---------')\n",
    "                    d['en_description']=enDescription\n",
    "                except:\n",
    "                    logging.warning('Translation failed')\n",
    "                    enDescription=None\n",
    "        if caption:\n",
    "            out.append(caption)\n",
    "            if not langid.classify(caption)[0]=='en':\n",
    "                try:\n",
    "                    enCaption=textblob.TextBlob(caption).translate().string\n",
    "                    enCaption=clean(enCaption)\n",
    "                    out.append('==>'+enCaption+'---------')\n",
    "                    d['en_caption']=enCaption\n",
    "                except:\n",
    "                    enCaption=None\n",
    "                    \n",
    "        try:\n",
    "            comments=d['comments']\n",
    "            del d['comments']\n",
    "        except:\n",
    "            comments=None\n",
    "        \n",
    "        if comments:\n",
    "            logging.info('Getting comments...')\n",
    "            commentData=getComments(comments,pageId)\n",
    "            # This does all the paging\n",
    "#            for c in commentData['data']:\n",
    "#                print 'Comments data:',c.keys()\n",
    "#                print 'Likes:',c[u'user_likes'],c.get('likes')\n",
    "            addCommentsToDb(commentData)\n",
    "            \n",
    "            # TODO get comment likes\n",
    "            \n",
    "        try:\n",
    "            likes=d['likes']\n",
    "            del d['likes']\n",
    "        except:\n",
    "            likes=None\n",
    "        \n",
    "        if likes:\n",
    "            logging.info('Getting likes...')\n",
    "            likeData=getLikes(likes,pageId,id)\n",
    "            # This does all the paging\n",
    "            addLikesToDb(likeData)\n",
    "\n",
    "        \n",
    "        outFull.append(d)       \n",
    "    \n",
    "    if raw:\n",
    "        '\\n'.join(out)\n",
    "        pass # return string\n",
    "    else:\n",
    "        return outFull,comments,likes"
   ]
  },
  {
   "cell_type": "code",
   "execution_count": 41,
   "metadata": {
    "collapsed": false
   },
   "outputs": [],
   "source": [
    "def getLikes(likes,pageId,id):\n",
    "    '''\n",
    "    Takes a dictionary of like data from API with keys\n",
    "    [paging,data], pageId and post id. If paging information is present, keep \n",
    "    requesting pages\n",
    "    '''\n",
    "    \n",
    "    \n",
    "    if likes.get('paging'):\n",
    "        current=likes\n",
    "        \n",
    "        while current['paging'].get('next'):\n",
    "            logging.info('Paging likes... %s' % current['paging']['next'])\n",
    "            current=getNextLikes(current['paging']['next'])\n",
    "            if current:\n",
    "                print 'Got next page of likes (current) (%d so far)' % len(likes['data'])\n",
    "                likes['data'].extend(current['data'])\n",
    "            else:\n",
    "                break\n",
    "            # TODO better error handling\n",
    "                \n",
    "        print 'Got %d likes after paging' % len(likes['data'])\n",
    "#    print 'Likes type %s' % type(likes)\n",
    "#    print likes.keys()\n",
    "    \n",
    "    for like in likes['data']:\n",
    "        like['id']='%s_%s' % (id,like['id'])\n",
    "        # Make a unique like ID made up of post id_likeid\n",
    "        like['parent_id']=id\n",
    "        # Keep parent id of comment/post for getting most liked content\n",
    "    \n",
    "#    print 'Likes',likes.keys()\n",
    "#    print likes.get('paging')\n",
    "#    print likes['data'][0]\n",
    "    return likes"
   ]
  },
  {
   "cell_type": "code",
   "execution_count": 42,
   "metadata": {
    "collapsed": false
   },
   "outputs": [],
   "source": [
    "def getComments(comments,pageId):\n",
    "    '''\n",
    "    Takes a dictionary of comment data from API with keys\n",
    "    [paging,data]. If paging information is present, keep\n",
    "    requesting pages\n",
    "    '''\n",
    "    \n",
    "    if comments.get('paging'):\n",
    "        \n",
    "        current=comments\n",
    "        \n",
    "        while current['paging'].get('next'):\n",
    "            logging.info('Paging comments...')\n",
    "            current=getNextComments(current['paging']['next'])\n",
    "            comments['data'].extend(current['data'])\n",
    "            \n",
    "            if not current.get('paging'):\n",
    "                break\n",
    "    return comments"
   ]
  },
  {
   "cell_type": "code",
   "execution_count": 43,
   "metadata": {
    "collapsed": true
   },
   "outputs": [],
   "source": [
    "def getNextComments(nextToken):\n",
    "    res=requests.get(nextToken)\n",
    "    \n",
    "    if not res.status_code==200:\n",
    "        logging.warning('Error with next comments data %d' % res.status_code)\n",
    "        return None\n",
    "    else:\n",
    "        return res.json()"
   ]
  },
  {
   "cell_type": "code",
   "execution_count": 44,
   "metadata": {
    "collapsed": true
   },
   "outputs": [],
   "source": [
    "def getNextLikes(nextToken):\n",
    "#    logging.warning('Getting next likes: %s' % nextToken)\n",
    "    res=requests.get(nextToken)\n",
    "    \n",
    "    if not res.status_code==200:\n",
    "        logging.warning('Error with next likes data %d %s' % (res.status_code,res.text))\n",
    "        return None\n",
    "    else:\n",
    "        return res.json()"
   ]
  },
  {
   "cell_type": "code",
   "execution_count": 45,
   "metadata": {
    "collapsed": false
   },
   "outputs": [
    {
     "name": "stderr",
     "output_type": "stream",
     "text": [
      "WARNING:root:API error - waiting: 500 {\"error\":{\"code\":1,\"message\":\"An unknown error occurred\"}}\n",
      "WARNING:root:API error - waiting: 500 {\"error\":{\"code\":-3,\"message\":\"Please reduce the amount of data you're asking for, then retry your request\"}}\n",
      "WARNING:root:API error - waiting: 500 {\"error\":{\"code\":-3,\"message\":\"Please reduce the amount of data you're asking for, then retry your request\"}}\n",
      "WARNING:root:API error - waiting: 500 {\"error\":{\"code\":-3,\"message\":\"Please reduce the amount of data you're asking for, then retry your request\"}}\n",
      "WARNING:root:API error - waiting: 500 {\"error\":{\"code\":-3,\"message\":\"Please reduce the amount of data you're asking for, then retry your request\"}}\n"
     ]
    },
    {
     "ename": "KeyboardInterrupt",
     "evalue": "",
     "output_type": "error",
     "traceback": [
      "\u001b[1;31m---------------------------------------------------------------------------\u001b[0m",
      "\u001b[1;31mKeyboardInterrupt\u001b[0m                         Traceback (most recent call last)",
      "\u001b[1;32m<ipython-input-45-907bc43da585>\u001b[0m in \u001b[0;36m<module>\u001b[1;34m()\u001b[0m\n\u001b[1;32m----> 1\u001b[1;33m \u001b[0mtrash\u001b[0m\u001b[1;33m=\u001b[0m\u001b[0mgetPostsFromPage\u001b[0m\u001b[1;33m(\u001b[0m\u001b[1;34m'657095547710700'\u001b[0m\u001b[1;33m,\u001b[0m\u001b[0mraw\u001b[0m\u001b[1;33m=\u001b[0m\u001b[0mTrue\u001b[0m\u001b[1;33m,\u001b[0m\u001b[0mlimit\u001b[0m\u001b[1;33m=\u001b[0m\u001b[1;36m10\u001b[0m\u001b[1;33m)\u001b[0m\u001b[1;33m\u001b[0m\u001b[0m\n\u001b[0m",
      "\u001b[1;32m<ipython-input-40-b88223f0a168>\u001b[0m in \u001b[0;36mgetPostsFromPage\u001b[1;34m(pageId, raw, limit)\u001b[0m\n\u001b[0;32m     34\u001b[0m                 \u001b[0mlogging\u001b[0m\u001b[1;33m.\u001b[0m\u001b[0mwarning\u001b[0m\u001b[1;33m(\u001b[0m\u001b[1;34m'Skipping posts after %d attempts'\u001b[0m \u001b[1;33m%\u001b[0m \u001b[0mnAttempts\u001b[0m\u001b[1;33m)\u001b[0m\u001b[1;33m\u001b[0m\u001b[0m\n\u001b[0;32m     35\u001b[0m                 \u001b[1;32mreturn\u001b[0m \u001b[1;33m(\u001b[0m\u001b[1;33m[\u001b[0m\u001b[1;33m]\u001b[0m\u001b[1;33m,\u001b[0m\u001b[1;33m[\u001b[0m\u001b[1;33m]\u001b[0m\u001b[1;33m,\u001b[0m\u001b[1;33m[\u001b[0m\u001b[1;33m]\u001b[0m\u001b[1;33m)\u001b[0m\u001b[1;33m\u001b[0m\u001b[0m\n\u001b[1;32m---> 36\u001b[1;33m         \u001b[0mtime\u001b[0m\u001b[1;33m.\u001b[0m\u001b[0msleep\u001b[0m\u001b[1;33m(\u001b[0m\u001b[0mnWait\u001b[0m\u001b[1;33m)\u001b[0m\u001b[1;33m\u001b[0m\u001b[0m\n\u001b[0m\u001b[0;32m     37\u001b[0m         \u001b[0mnAttempts\u001b[0m\u001b[1;33m+=\u001b[0m\u001b[1;36m1\u001b[0m\u001b[1;33m\u001b[0m\u001b[0m\n\u001b[0;32m     38\u001b[0m     \u001b[1;31m######################################################\u001b[0m\u001b[1;33m\u001b[0m\u001b[1;33m\u001b[0m\u001b[0m\n",
      "\u001b[1;31mKeyboardInterrupt\u001b[0m: "
     ]
    }
   ],
   "source": [
    "trash=getPostsFromPage('657095547710700',raw=True,limit=10)"
   ]
  },
  {
   "cell_type": "code",
   "execution_count": 48,
   "metadata": {
    "collapsed": false
   },
   "outputs": [],
   "source": [
    "def getPageInfo(pageId,raw=False):\n",
    "    '''\n",
    "    Requests info for a page by ID\n",
    "    Returns the info either as a JSON object\n",
    "    or if raw=True as a string to be printed\n",
    "    '''\n",
    "    tempUrl='https://graph.facebook.com/v2.4/'+pageId+'?fields=about,description,location,phone,talking_about_count,\\\n",
    "    engagement,start_info,likes,website&access_token='+ACCESSTOKEN\n",
    "\n",
    "    res=requests.get(tempUrl)\n",
    "    \n",
    "    \n",
    "    if not res.status_code==200:\n",
    "        logging.warning('Request failed: %d %s' % (res.status_code,res.text))\n",
    "    \n",
    "    res=res.json()\n",
    "    res['retrieved']=time.time()\n",
    "    \n",
    "    description=res.get('description')\n",
    "    if description:\n",
    "        description=clean(description)\n",
    "    else:\n",
    "        logging.warning('No description for page %s' % pageId)\n",
    "        logging.warning('Keys %s' % res.keys())\n",
    "    \n",
    "    engagement=res.get('engagement')\n",
    "    if engagement:\n",
    "        if engagement.get(u'count'):\n",
    "            res['engagement']=str(res['engagement']['count'])\n",
    "    \n",
    "    start_info=res.get('start_info')\n",
    "    if start_info:\n",
    "        date=start_info.get(u'date')\n",
    "        if date:\n",
    "            res['start_info_clean']=str(res['start_info']['date']['year'])\n",
    "            if res['start_info']['date'].get('month'):\n",
    "                res['start_info_clean']+='/'+str(res['start_info']['date']['month'])\n",
    "                if res['start_info']['date'].get('day'):\n",
    "                    res['start_info_clean']+='/'+str(res['start_info']['date']['day'])\n",
    "\n",
    "        else:\n",
    "            del res['start_info']\n",
    "    \n",
    "    for k,v in res.items():\n",
    "        if type(v) in [unicode,str]:\n",
    "\n",
    "            if not langid.classify(v)[0]=='en':\n",
    "\n",
    "                try:\n",
    "                    res[k+'_en']=textblob.TextBlob(v).translate().string\n",
    "                except:\n",
    "                    logging.warning('Translation failed')\n",
    "                # Create a new dictionary entry with the translation\n",
    "    if raw:    \n",
    "        return res\n",
    "    else:\n",
    "#        print res.json().items()\n",
    "        return '\\n'.join([k+'\\t\\t'+unicode(v) for k,v in res.items()])+'\\n================'"
   ]
  },
  {
   "cell_type": "code",
   "execution_count": null,
   "metadata": {
    "collapsed": true
   },
   "outputs": [],
   "source": []
  }
 ],
 "metadata": {
  "kernelspec": {
   "display_name": "Python 2",
   "language": "python",
   "name": "python2"
  },
  "language_info": {
   "codemirror_mode": {
    "name": "ipython",
    "version": 2
   },
   "file_extension": ".py",
   "mimetype": "text/x-python",
   "name": "python",
   "nbconvert_exporter": "python",
   "pygments_lexer": "ipython2",
   "version": "2.7.10"
  }
 },
 "nbformat": 4,
 "nbformat_minor": 0
}
