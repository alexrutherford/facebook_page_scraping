{
 "cells": [
  {
   "cell_type": "code",
   "execution_count": 1,
   "metadata": {
    "collapsed": true
   },
   "outputs": [],
   "source": [
    "import requests,re\n",
    "import sys\n",
    "sys.path.append('/usr/local/lib/python2.7/dist-packages/')\n",
    "import textblob\n",
    "import langid,traceback\n",
    "import logging\n",
    "import collections\n",
    "import pymongo,time\n",
    "from secrets import *\n",
    "from utils import *"
   ]
  },
  {
   "cell_type": "code",
   "execution_count": 3,
   "metadata": {
    "collapsed": true
   },
   "outputs": [],
   "source": [
    "#hdlr = logging.FileHandler('log.log')\n",
    "#formatter = logging.Formatter('%(asctime)s %(levelname)s %(message)s')\n",
    "#hdlr.setFormatter(formatter)\n",
    "\n",
    "logging.basicConfig(level=logging.INFO, \n",
    "                    filename='log.log', # log to this file\n",
    "                    format='%(asctime)s %(message)s') # include timestamp"
   ]
  },
  {
   "cell_type": "code",
   "execution_count": 4,
   "metadata": {
    "collapsed": false
   },
   "outputs": [
    {
     "name": "stdout",
     "output_type": "stream",
     "text": [
      "904\n",
      "112768218894291 1442977457.25\n",
      "***Page error\n",
      "None\n"
     ]
    },
    {
     "name": "stderr",
     "output_type": "stream",
     "text": [
      "Traceback (most recent call last):\n",
      "  File \"<ipython-input-4-bebb2b8d9a05>\", line 18, in <module>\n",
      "    posts,comments,likes=getPostsFromPage(page['id'],limit=postsLimit,raw=False)\n",
      "  File \"utils.py\", line 223, in getPostsFromPage\n",
      "    time.sleep(nWait)\n",
      "KeyboardInterrupt\n"
     ]
    },
    {
     "ename": "KeyboardInterrupt",
     "evalue": "",
     "output_type": "error",
     "traceback": [
      "\u001b[1;31m---------------------------------------------------------------------------\u001b[0m",
      "\u001b[1;31mKeyboardInterrupt\u001b[0m                         Traceback (most recent call last)",
      "\u001b[1;32m<ipython-input-4-bebb2b8d9a05>\u001b[0m in \u001b[0;36m<module>\u001b[1;34m()\u001b[0m\n\u001b[0;32m     35\u001b[0m         \u001b[0mupdatePageTimestamp\u001b[0m\u001b[1;33m(\u001b[0m\u001b[0mpage\u001b[0m\u001b[1;33m[\u001b[0m\u001b[1;34m'id'\u001b[0m\u001b[1;33m]\u001b[0m\u001b[1;33m)\u001b[0m\u001b[1;33m\u001b[0m\u001b[0m\n\u001b[0;32m     36\u001b[0m \u001b[1;33m\u001b[0m\u001b[0m\n\u001b[1;32m---> 37\u001b[1;33m         \u001b[0mtime\u001b[0m\u001b[1;33m.\u001b[0m\u001b[0msleep\u001b[0m\u001b[1;33m(\u001b[0m\u001b[0mpageSleepTime\u001b[0m\u001b[1;33m)\u001b[0m\u001b[1;33m\u001b[0m\u001b[0m\n\u001b[0m\u001b[0;32m     38\u001b[0m     \u001b[1;32melse\u001b[0m\u001b[1;33m:\u001b[0m\u001b[1;33m\u001b[0m\u001b[0m\n\u001b[0;32m     39\u001b[0m         \u001b[0mlogging\u001b[0m\u001b[1;33m.\u001b[0m\u001b[0mwarning\u001b[0m\u001b[1;33m(\u001b[0m\u001b[1;34m'Missing page id %s'\u001b[0m \u001b[1;33m%\u001b[0m \u001b[0mpage\u001b[0m\u001b[1;33m)\u001b[0m\u001b[1;33m\u001b[0m\u001b[0m\n",
      "\u001b[1;31mKeyboardInterrupt\u001b[0m: "
     ]
    }
   ],
   "source": [
    "cur=pagesCollection.find({'checked':{'$exists':False},'relevant':{'$ne':False}})\n",
    "cur=pagesCollection.find({'relevant':{'$ne':False}}).sort('checked.-1',1)\n",
    "# Get all pages that have yet to be checked\n",
    "# Change this next to be pages sorted by last time checked\n",
    "\n",
    "print cur.count()\n",
    "\n",
    "for page in cur:\n",
    "    \n",
    "    #print page\n",
    "    #sys.exit(1)\n",
    "    \n",
    "    if page.get('id'):\n",
    "    \n",
    "        print page['id'],page['retrieved']\n",
    "        try:\n",
    "        # HACK\n",
    "            posts,comments,likes=getPostsFromPage(page['id'],limit=postsLimit,raw=False)\n",
    "            # Get posts,comments,likes from that page\n",
    "\n",
    "            nAdded=nAlready=0\n",
    "\n",
    "            for post in posts:\n",
    "                if not isPostInDb(post['id']):\n",
    "                    addPostToDb(post)\n",
    "                    nAdded+=1\n",
    "                else:\n",
    "                    #logging.warning('Post %s already in DB' % post['id'])\n",
    "                    nAlready+=1\n",
    "            logging.warning('%d posts added (%d already in DB)' % (nAdded,nAlready))\n",
    "        except:\n",
    "            print '***Page error'\n",
    "            print traceback.print_exc()\n",
    "        #addTimestampToPage(page['id'])\n",
    "        updatePageTimestamp(page['id'])\n",
    "\n",
    "        time.sleep(pageSleepTime)\n",
    "    else:\n",
    "        logging.warning('Missing page id %s' % page)"
   ]
  },
  {
   "cell_type": "code",
   "execution_count": null,
   "metadata": {
    "collapsed": true
   },
   "outputs": [],
   "source": [
    "'''\n",
    "/home/turing/facebook_api/utils.pyc in getLikes(likes, pageId, id)\n",
    "    399         current=likes\n",
    "    400 \n",
    "--> 401         while current['paging'].get('next'):\n",
    "    402             logging.info('Paging likes... %s' % current['paging']['next'])\n",
    "    403             current=getNextLikes(current['paging']['next'])\n",
    "\n",
    "KeyError: 'paging'\n",
    "'''"
   ]
  }
 ],
 "metadata": {
  "kernelspec": {
   "display_name": "Python 2",
   "language": "python",
   "name": "python2"
  },
  "language_info": {
   "codemirror_mode": {
    "name": "ipython",
    "version": 2
   },
   "file_extension": ".py",
   "mimetype": "text/x-python",
   "name": "python",
   "nbconvert_exporter": "python",
   "pygments_lexer": "ipython2",
   "version": "2.7.10"
  }
 },
 "nbformat": 4,
 "nbformat_minor": 0
}
